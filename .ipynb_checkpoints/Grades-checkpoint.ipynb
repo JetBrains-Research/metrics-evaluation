{
 "cells": [
  {
   "cell_type": "code",
   "execution_count": 6,
   "metadata": {},
   "outputs": [],
   "source": [
    "import json\n",
    "import matplotlib.pyplot as plt\n",
    "from mpl_toolkits.mplot3d import Axes3D\n",
    "from matplotlib import cm\n",
    "import random"
   ]
  },
  {
   "cell_type": "markdown",
   "metadata": {},
   "source": [
    "## Init"
   ]
  },
  {
   "cell_type": "code",
   "execution_count": 2,
   "metadata": {},
   "outputs": [],
   "source": [
    "data = json.load(open('to-grade/all-singles.json'))\n",
    "dataset = json.load(open('conala-metrics.json'))\n",
    "data_egor = json.load(open('to-grade/all-singles.egor.json'))\n",
    "data_nastya = json.load(open('to-grade/all-singles.birillo.json'))\n",
    "data_yarik = json.load(open('to-grade/all-singles.yarik.json'))"
   ]
  },
  {
   "cell_type": "code",
   "execution_count": 3,
   "metadata": {},
   "outputs": [],
   "source": [
    "def get_key(k):\n",
    "    if k.endswith('-rerank'):\n",
    "        return k.replace('-rerank', '-bleu-rerank')\n",
    "    return k + '-bleu'\n",
    "\n",
    "def get_val(d2, k):\n",
    "    k = k.replace('grade-', '')\n",
    "    if k == 'snippet':\n",
    "        return 1.\n",
    "    return d2[get_key(k.replace('grade-', ''))]\n",
    "\n",
    "def get_meteor(d2, k):\n",
    "    if k == 'grade-snippet':\n",
    "        return 1.\n",
    "    return d2[k.replace('grade','meteor')]\n",
    "\n",
    "def get_rougel(d2, k):\n",
    "    if k == 'grade-snippet':\n",
    "        return 1.\n",
    "    return d2[k.replace('grade','rougel')]"
   ]
  },
  {
   "cell_type": "code",
   "execution_count": 387,
   "metadata": {},
   "outputs": [],
   "source": [
    "pairs_egor = []\n",
    "pairs_nastya = []\n",
    "nastya_egor = []\n",
    "pairs_yarik = []\n",
    "yarik_egor = []\n",
    "set_misha = []\n",
    "grad_comp = []\n",
    "for d0, d1, d2, d3, d4 in zip(data, data_egor, dataset, data_nastya, data_yarik):\n",
    "    assert d1['snippet'] == d2['snippet'] == d0['snippet'] == d3['snippet'] == d4['snippet']\n",
    "    or_intent = d2['rewritten_intent'] if d2['rewritten_intent'] is not None else d2['intent']\n",
    "    assert d1['intent'] == or_intent\n",
    "    for k in d0:\n",
    "        if k.startswith('grade-'): set_misha.append((d0[k], get_val(d2, k), get_rougel(d2, k), get_meteor(d2, k)))\n",
    "        if k.startswith('grade-') and d1.get(k) is not None:\n",
    "            pairs_egor.append((\n",
    "                d1[k], \n",
    "                d0[k],\n",
    "                get_val(d2, k),\n",
    "                get_rougel(d2, k),\n",
    "                get_meteor(d2, k)\n",
    "            ))\n",
    "            grad_comp.append((\n",
    "                k, \n",
    "                get_val(d2, k),\n",
    "                get_rougel(d2, k),\n",
    "                get_meteor(d2, k),\n",
    "                myround(d1[k], d0[k]),\n",
    "                d1[k],\n",
    "                d0[k]\n",
    "            ))\n",
    "        if k.startswith('grade-') and d3.get(k) is not None:\n",
    "            pairs_nastya.append((\n",
    "                d3[k], \n",
    "                d0[k],\n",
    "                get_val(d2, k),\n",
    "                get_rougel(d2, k),\n",
    "                get_meteor(d2, k)                \n",
    "            ))\n",
    "        if k.startswith('grade-') and d4.get(k) is not None:\n",
    "            pairs_yarik.append((\n",
    "                d4[k], \n",
    "                d0[k],\n",
    "                get_val(d2, k),\n",
    "                get_rougel(d2, k),\n",
    "                get_meteor(d2, k)\n",
    "            ))\n",
    "    for k in d1:\n",
    "        if k.startswith('grade-') and d3.get(k) is not None:\n",
    "            nastya_egor.append((\n",
    "                d1[k], \n",
    "                d3[k],\n",
    "                get_val(d2, k),\n",
    "                get_rougel(d2, k),\n",
    "                get_meteor(d2, k)\n",
    "            ))\n",
    "        if k.startswith('grade-') and d4.get(k) is not None:\n",
    "            yarik_egor.append((\n",
    "                d1[k], \n",
    "                d4[k],\n",
    "                get_val(d2, k),\n",
    "                get_rougel(d2, k),\n",
    "                get_meteor(d2, k)\n",
    "            ))"
   ]
  },
  {
   "cell_type": "code",
   "execution_count": null,
   "metadata": {},
   "outputs": [],
   "source": []
  },
  {
   "cell_type": "markdown",
   "metadata": {},
   "source": [
    "## BLEU \"cross-validation\""
   ]
  },
  {
   "cell_type": "code",
   "execution_count": 247,
   "metadata": {},
   "outputs": [
    {
     "name": "stdout",
     "output_type": "stream",
     "text": [
      "[0.14767199999999997, 0.14961500000000003, 0.147116, 0.14832899999999993, 0.14874800000000002, 0.14829599999999998]\n",
      "[0.24769800000000022, 0.26361100000000004, 0.2516330000000001, 0.2563649999999999, 0.266089, 0.25709200000000015]\n",
      "[0.274621, 0.28918, 0.2754730000000001, 0.2702150000000001, 0.2744470000000001, 0.276777]\n",
      "[0.291185, 0.3047700000000001, 0.29579400000000006, 0.27968700000000013, 0.2904720000000002, 0.29237200000000024]\n"
     ]
    }
   ],
   "source": [
    "basgrades = [0.0, 0.0, 0.0, 0.0, 0.0, 0.0]\n",
    "for i in range(len(dataset)):\n",
    "    for j in range(6):\n",
    "        if i // 100 != j: basgrades[j] += round(dataset[i]['baseline-bleu']/(400 + 100*(j // 5)),6)\n",
    "print(basgrades)\n",
    "tagrades = [0.0, 0.0, 0.0, 0.0, 0.0, 0.0]\n",
    "for i in range(len(dataset)):\n",
    "    for j in range(6):\n",
    "        if i // 100 != j: tagrades[j] += round(dataset[i]['tranx-annot-bleu']/(400 + 100*(j // 5)),6)\n",
    "print(tagrades)\n",
    "btgrades = [0.0, 0.0, 0.0, 0.0, 0.0, 0.0]\n",
    "for i in range(len(dataset)):\n",
    "    for j in range(6):\n",
    "        if i // 100 != j: btgrades[j] += round(dataset[i]['best-tranx-bleu']/(400 + 100*(j // 5)),6)\n",
    "print(btgrades)\n",
    "btrgrades = [0.0, 0.0, 0.0, 0.0, 0.0, 0.0]\n",
    "for i in range(len(dataset)):\n",
    "    for j in range(6):\n",
    "        if i // 100 != j: btrgrades[j] += round(dataset[i]['best-tranx-bleu-rerank']/(400 + 100*(j // 5)),6)\n",
    "print(btrgrades)"
   ]
  },
  {
   "cell_type": "code",
   "execution_count": 140,
   "metadata": {},
   "outputs": [
    {
     "name": "stdout",
     "output_type": "stream",
     "text": [
      "Counter({0: 355, 1: 127, 2: 12, 3: 4, 4: 2}) Counter({1: 201, 0: 171, 2: 65, 4: 38, 3: 25}) Counter({1: 186, 0: 143, 2: 78, 4: 59, 3: 34}) Counter({1: 169, 0: 131, 2: 83, 4: 76, 3: 41}) Counter({4: 359, 2: 49, 3: 42, 1: 33, 0: 17})\n"
     ]
    }
   ],
   "source": [
    "from collections import Counter\n",
    "from operator import itemgetter\n",
    "\n",
    "gta = Counter(map(itemgetter('grade-tranx-annot'), data))\n",
    "gs = Counter(map(itemgetter('grade-snippet'), data))\n",
    "gbt = Counter(map(itemgetter('grade-best-tranx'), data))\n",
    "gbtr = Counter(map(itemgetter('grade-best-tranx-rerank'), data))\n",
    "gb = Counter(map(itemgetter('grade-baseline'), data))\n",
    "print(gb,gta,gbt,gbtr,gs)"
   ]
  },
  {
   "cell_type": "code",
   "execution_count": 142,
   "metadata": {},
   "outputs": [
    {
     "name": "stdout",
     "output_type": "stream",
     "text": [
      "Counter({0: 325, 1: 274, 2: 93, 4: 55, 3: 35})\n",
      "Counter({0: 474, 1: 108, 3: 76, 2: 65, 4: 59})\n"
     ]
    },
    {
     "data": {
      "text/plain": [
       "Counter({0: 122, 2: 35, 1: 46, 3: 23, 4: 20})"
      ]
     },
     "execution_count": 142,
     "metadata": {},
     "output_type": "execute_result"
    }
   ],
   "source": [
    "print(Counter([item[1] for item in pairs_egor if item[2]<1]))\n",
    "print(Counter([item[0] for item in pairs_egor if item[2]<1]))\n",
    "Counter([item[0] for item in pairs_yarik if item[2]<1])"
   ]
  },
  {
   "cell_type": "code",
   "execution_count": 276,
   "metadata": {},
   "outputs": [
    {
     "name": "stdout",
     "output_type": "stream",
     "text": [
      "Counter({0: 1098, 4: 468, 1: 385, 2: 122, 3: 49})\n"
     ]
    }
   ],
   "source": [
    "print(Counter(int(4*item[2]) for item in pairs))"
   ]
  },
  {
   "cell_type": "markdown",
   "metadata": {},
   "source": [
    "## Correlation coefficients"
   ]
  },
  {
   "cell_type": "code",
   "execution_count": 376,
   "metadata": {},
   "outputs": [
    {
     "data": {
      "text/html": [
       "<table>\n",
       "<tbody>\n",
       "<tr><td>Metric 1</td><td>Metric 2</td><td>Spearman r</td></tr>\n",
       "<tr><td>ROUGE-L </td><td>BLEU    </td><td>0.9296    </td></tr>\n",
       "<tr><td>METEOR  </td><td>BLEU    </td><td>0.9316    </td></tr>\n",
       "<tr><td>ROUGE-L </td><td>METEOR  </td><td>0.9387    </td></tr>\n",
       "<tr><td>Misha   </td><td>BLEU    </td><td>0.6586    </td></tr>\n",
       "<tr><td>Egor    </td><td>BLEU    </td><td>0.6645    </td></tr>\n",
       "<tr><td>Nastya  </td><td>BLEU    </td><td>0.6102    </td></tr>\n",
       "<tr><td>Yarik   </td><td>BLEU    </td><td>0.6079    </td></tr>\n",
       "<tr><td>Misha   </td><td>ROUGE-L </td><td>0.6754    </td></tr>\n",
       "<tr><td>Egor    </td><td>ROUGE-L </td><td>0.6782    </td></tr>\n",
       "<tr><td>Nastya  </td><td>ROUGE-L </td><td>0.6111    </td></tr>\n",
       "<tr><td>Yarik   </td><td>ROUGE-L </td><td>0.6219    </td></tr>\n",
       "<tr><td>Misha   </td><td>METEOR  </td><td>0.6737    </td></tr>\n",
       "<tr><td>Egor    </td><td>METEOR  </td><td>0.6663    </td></tr>\n",
       "<tr><td>Nastya  </td><td>METEOR  </td><td>0.6348    </td></tr>\n",
       "<tr><td>Yarik   </td><td>METEOR  </td><td>0.611     </td></tr>\n",
       "<tr><td>Misha   </td><td>Egor    </td><td>0.7414    </td></tr>\n",
       "<tr><td>Misha   </td><td>Nastya  </td><td>0.7065    </td></tr>\n",
       "<tr><td>Misha   </td><td>Yarik   </td><td>0.7799    </td></tr>\n",
       "<tr><td>Egor    </td><td>Nastya  </td><td>0.6459    </td></tr>\n",
       "<tr><td>Egor    </td><td>Yarik   </td><td>0.7955    </td></tr>\n",
       "</tbody>\n",
       "</table>"
      ],
      "text/plain": [
       "<IPython.core.display.HTML object>"
      ]
     },
     "metadata": {},
     "output_type": "display_data"
    }
   ],
   "source": [
    "from scipy.stats import pearsonr as pear\n",
    "from scipy.stats import spearmanr as spear\n",
    "from scipy.stats import kendalltau as kend\n",
    "tmp = [['Metric 1', 'Metric 2', 'Spearman r']]\n",
    "tmp.append(['ROUGE-L', 'BLEU', str(round(spear([item[3] for item in pairs_egor], [item[2] for item in pairs_egor])[0],4))])\n",
    "tmp.append(['METEOR', 'BLEU', str(round(spear([item[4] for item in pairs_egor], [item[2] for item in pairs_egor])[0],4))])\n",
    "tmp.append(['ROUGE-L', 'METEOR', str(round(spear([item[3] for item in pairs_egor], [item[4] for item in pairs_egor])[0],4))])\n",
    "tmp.append(['Misha', 'BLEU', str(round(spear([item[1] for item in pairs_egor], [item[2] for item in pairs_egor])[0],4))])\n",
    "tmp.append(['Egor', 'BLEU', str(round(spear([item[0] for item in pairs_egor], [item[2] for item in pairs_egor])[0],4))])\n",
    "tmp.append(['Nastya', 'BLEU', str(round(spear([item[0] for item in pairs_nastya], [item[2] for item in pairs_nastya])[0],4))])\n",
    "tmp.append(['Yarik', 'BLEU', str(round(spear([item[0] for item in pairs_yarik], [item[2] for item in pairs_yarik])[0],4))])\n",
    "tmp.append(['Misha', 'ROUGE-L', str(round(spear([item[1] for item in pairs_egor], [item[3] for item in pairs_egor])[0],4))])\n",
    "tmp.append(['Egor', 'ROUGE-L', str(round(spear([item[0] for item in pairs_egor], [item[3] for item in pairs_egor])[0],4))])\n",
    "tmp.append(['Nastya', 'ROUGE-L', str(round(spear([item[0] for item in pairs_nastya], [item[3] for item in pairs_nastya])[0],4))])\n",
    "tmp.append(['Yarik', 'ROUGE-L', str(round(spear([item[0] for item in pairs_yarik], [item[3] for item in pairs_yarik])[0],4))])\n",
    "tmp.append(['Misha', 'METEOR', str(round(spear([item[1] for item in pairs_egor], [item[4] for item in pairs_egor])[0],4))])\n",
    "tmp.append(['Egor', 'METEOR', str(round(spear([item[0] for item in pairs_egor], [item[4] for item in pairs_egor])[0],4))])\n",
    "tmp.append(['Nastya', 'METEOR', str(round(spear([item[0] for item in pairs_nastya], [item[4] for item in pairs_nastya])[0],4))])\n",
    "tmp.append(['Yarik', 'METEOR', str(round(spear([item[0] for item in pairs_yarik], [item[4] for item in pairs_yarik])[0],4))])\n",
    "tmp.append(['Misha', 'Egor', str(round(spear([item[1] for item in pairs_egor], [item[0] for item in pairs_egor])[0],4))])\n",
    "tmp.append(['Misha', 'Nastya', str(round(spear([item[1] for item in pairs_nastya], [item[0] for item in pairs_nastya])[0],4))])\n",
    "tmp.append(['Misha', 'Yarik', str(round(spear([item[1] for item in pairs_yarik], [item[0] for item in pairs_yarik])[0],4))])\n",
    "tmp.append(['Egor', 'Nastya', str(round(spear([item[1] for item in nastya_egor], [item[0] for item in nastya_egor])[0],4))])\n",
    "tmp.append(['Egor', 'Yarik', str(round(spear([item[1] for item in yarik_egor], [item[0] for item in yarik_egor])[0],4))])\n",
    "#    tmp.append([nam, 'METEOR', 'BLEU', str(round(pear(bleuds[nam], meteor[nam])[0],4))])\n",
    "#    tmp.append([nam, 'ROUGE-L', 'METEOR', str(round(pear(meteor[nam], rougel[nam])[0],4))])\n",
    "from IPython.display import HTML, display\n",
    "import tabulate\n",
    "display(HTML(tabulate.tabulate(tmp, tablefmt='html')))"
   ]
  },
  {
   "cell_type": "code",
   "execution_count": 258,
   "metadata": {},
   "outputs": [
    {
     "name": "stdout",
     "output_type": "stream",
     "text": [
      "0.568 0.4103 0.3385\n",
      "0.12 0.2115 0.2923\n"
     ]
    }
   ],
   "source": [
    "me_sim = 0.0 \n",
    "my_sim = 0.0\n",
    "ey_sim = 0.0\n",
    "for item in pairs_egor:\n",
    "    if item[0]==item[1]:\n",
    "        me_sim += 1.0/len(pairs_egor)\n",
    "for item in pairs_nastya:\n",
    "    if item[0]==item[1]:\n",
    "        my_sim += 1.0/len(pairs_nastya)\n",
    "for item in nastya_egor:\n",
    "    if item[0]==item[1]:\n",
    "        ey_sim += 1.0/len(nastya_egor)\n",
    "print(round(me_sim,4), round(my_sim,4), round(ey_sim,4))\n",
    "me_dif = 0.0 \n",
    "my_dif = 0.0\n",
    "ey_dif = 0.0\n",
    "for item in pairs_egor:\n",
    "    if abs(item[0]-item[1]) > 1:\n",
    "        me_dif += 1.0/len(pairs_egor)\n",
    "for item in pairs_nastya:\n",
    "    if abs(item[0]-item[1]) > 1:\n",
    "        my_dif += 1.0/len(pairs_nastya)\n",
    "for item in nastya_egor:\n",
    "    if abs(item[0]-item[1]) > 1:\n",
    "        ey_dif += 1.0/len(nastya_egor)\n",
    "print(round(me_dif,4), round(my_dif,4), round(ey_dif,4))"
   ]
  },
  {
   "cell_type": "code",
   "execution_count": 375,
   "metadata": {},
   "outputs": [
    {
     "data": {
      "text/html": [
       "<table>\n",
       "<tbody>\n",
       "<tr><td>Metric 1</td><td>Metric 2</td><td>Kendall tau</td></tr>\n",
       "<tr><td>ROUGE-L </td><td>BLEU    </td><td>0.7878     </td></tr>\n",
       "<tr><td>METEOR  </td><td>BLEU    </td><td>0.7882     </td></tr>\n",
       "<tr><td>ROUGE-L </td><td>METEOR  </td><td>0.8072     </td></tr>\n",
       "<tr><td>Misha   </td><td>BLEU    </td><td>0.5291     </td></tr>\n",
       "<tr><td>Egor    </td><td>BLEU    </td><td>0.5412     </td></tr>\n",
       "<tr><td>Nastya  </td><td>BLEU    </td><td>0.4759     </td></tr>\n",
       "<tr><td>Yarik   </td><td>BLEU    </td><td>0.4858     </td></tr>\n",
       "<tr><td>Misha   </td><td>ROUGE-L </td><td>0.546      </td></tr>\n",
       "<tr><td>Egor    </td><td>ROUGE-L </td><td>0.5536     </td></tr>\n",
       "<tr><td>Nastya  </td><td>ROUGE-L </td><td>0.4788     </td></tr>\n",
       "<tr><td>Yarik   </td><td>ROUGE-L </td><td>0.497      </td></tr>\n",
       "<tr><td>Misha   </td><td>METEOR  </td><td>0.5434     </td></tr>\n",
       "<tr><td>Egor    </td><td>METEOR  </td><td>0.5415     </td></tr>\n",
       "<tr><td>Nastya  </td><td>METEOR  </td><td>0.5015     </td></tr>\n",
       "<tr><td>Yarik   </td><td>METEOR  </td><td>0.4853     </td></tr>\n",
       "<tr><td>Misha   </td><td>Yarik   </td><td>0.6909     </td></tr>\n",
       "<tr><td>Misha   </td><td>Egor    </td><td>0.6632     </td></tr>\n",
       "<tr><td>Misha   </td><td>Nastya  </td><td>0.6001     </td></tr>\n",
       "<tr><td>Egor    </td><td>Nastya  </td><td>0.5513     </td></tr>\n",
       "<tr><td>Egor    </td><td>Yarik   </td><td>0.7124     </td></tr>\n",
       "</tbody>\n",
       "</table>"
      ],
      "text/plain": [
       "<IPython.core.display.HTML object>"
      ]
     },
     "metadata": {},
     "output_type": "display_data"
    }
   ],
   "source": [
    "tmp = [['Metric 1', 'Metric 2', 'Kendall tau']]\n",
    "tmp.append(['ROUGE-L', 'BLEU', str(round(kend([item[3] for item in pairs_egor], [item[2] for item in pairs_egor])[0],4))])\n",
    "tmp.append(['METEOR', 'BLEU', str(round(kend([item[4] for item in pairs_egor], [item[2] for item in pairs_egor])[0],4))])\n",
    "tmp.append(['ROUGE-L', 'METEOR', str(round(kend([item[3] for item in pairs_egor], [item[4] for item in pairs_egor])[0],4))])\n",
    "tmp.append(['Misha', 'BLEU', str(round(kend([item[1] for item in pairs_egor], [item[2] for item in pairs_egor])[0],4))])\n",
    "tmp.append(['Egor', 'BLEU', str(round(kend([item[0] for item in pairs_egor], [item[2] for item in pairs_egor])[0],4))])\n",
    "tmp.append(['Nastya', 'BLEU', str(round(kend([item[0] for item in pairs_nastya], [item[2] for item in pairs_nastya])[0],4))])\n",
    "tmp.append(['Yarik', 'BLEU', str(round(kend([item[0] for item in pairs_yarik], [item[2] for item in pairs_yarik])[0],4))])\n",
    "tmp.append(['Misha', 'ROUGE-L', str(round(kend([item[1] for item in pairs_egor], [item[3] for item in pairs_egor])[0],4))])\n",
    "tmp.append(['Egor', 'ROUGE-L', str(round(kend([item[0] for item in pairs_egor], [item[3] for item in pairs_egor])[0],4))])\n",
    "tmp.append(['Nastya', 'ROUGE-L', str(round(kend([item[0] for item in pairs_nastya], [item[3] for item in pairs_nastya])[0],4))])\n",
    "tmp.append(['Yarik', 'ROUGE-L', str(round(kend([item[0] for item in pairs_yarik], [item[3] for item in pairs_yarik])[0],4))])\n",
    "tmp.append(['Misha', 'METEOR', str(round(kend([item[1] for item in pairs_egor], [item[4] for item in pairs_egor])[0],4))])\n",
    "tmp.append(['Egor', 'METEOR', str(round(kend([item[0] for item in pairs_egor], [item[4] for item in pairs_egor])[0],4))])\n",
    "tmp.append(['Nastya', 'METEOR', str(round(kend([item[0] for item in pairs_nastya], [item[4] for item in pairs_nastya])[0],4))])\n",
    "tmp.append(['Yarik', 'METEOR', str(round(kend([item[0] for item in pairs_yarik], [item[4] for item in pairs_yarik])[0],4))])\n",
    "tmp.append(['Misha', 'Yarik', str(round(kend([item[1] for item in pairs_yarik], [item[0] for item in pairs_yarik])[0],4))])\n",
    "tmp.append(['Misha', 'Egor', str(round(kend([item[1] for item in pairs_egor], [item[0] for item in pairs_egor])[0],4))])\n",
    "tmp.append(['Misha', 'Nastya', str(round(kend([item[1] for item in pairs_nastya], [item[0] for item in pairs_nastya])[0],4))])\n",
    "tmp.append(['Egor', 'Nastya', str(round(kend([item[1] for item in nastya_egor], [item[0] for item in nastya_egor])[0],4))])\n",
    "tmp.append(['Egor', 'Yarik', str(round(kend([item[1] for item in yarik_egor], [item[0] for item in yarik_egor])[0],4))])\n",
    "#    tmp.append([nam, 'METEOR', 'BLEU', str(round(pear(bleuds[nam], meteor[nam])[0],4))])\n",
    "#    tmp.append([nam, 'ROUGE-L', 'METEOR', str(round(pear(meteor[nam], rougel[nam])[0],4))])\n",
    "from IPython.display import HTML, display\n",
    "import tabulate\n",
    "display(HTML(tabulate.tabulate(tmp, tablefmt='html')))"
   ]
  },
  {
   "cell_type": "markdown",
   "metadata": {},
   "source": [
    "## Plots"
   ]
  },
  {
   "cell_type": "code",
   "execution_count": 86,
   "metadata": {},
   "outputs": [
    {
     "data": {
      "image/png": "[encoded data removed]",
      "text/plain": [
       "<Figure size 432x288 with 1 Axes>"
      ]
     },
     "metadata": {
      "needs_background": "light"
     },
     "output_type": "display_data"
    }
   ],
   "source": [
    "fig = plt.figure()\n",
    "ax1 = fig.add_subplot(111)\n",
    "ax1.scatter([p[2] for p in pairs], [p[0] for p in pairs], s=10, c='b', marker=\"o\", label='Egor')\n",
    "ax1.scatter([p[2] for p in pairs], [p[1] for p in pairs], s=10, c='g', marker=\"o\", label='Misha')\n",
    "plt.show()"
   ]
  },
  {
   "cell_type": "code",
   "execution_count": 78,
   "metadata": {},
   "outputs": [
    {
     "data": {
      "text/plain": [
       "(0.6092922075330345, 6.273891773893943e-79)"
      ]
     },
     "execution_count": 78,
     "metadata": {},
     "output_type": "execute_result"
    }
   ],
   "source": [
    "# inds = np.logical_or(0 == scores, scores == 4)\n",
    "inds = np.logical_and(0 <= scores, scores < 4)\n",
    "pearsonr(scores[inds], bleu[inds])"
   ]
  },
  {
   "cell_type": "code",
   "execution_count": 79,
   "metadata": {},
   "outputs": [
    {
     "data": {
      "text/plain": [
       "(array([0, 1, 2, 3, 4]), array([483, 109,  70, 103, 235]))"
      ]
     },
     "execution_count": 79,
     "metadata": {},
     "output_type": "execute_result"
    }
   ],
   "source": [
    "np.unique(scores, return_counts=True)"
   ]
  },
  {
   "cell_type": "code",
   "execution_count": 80,
   "metadata": {},
   "outputs": [
    {
     "ename": "ValueError",
     "evalue": "too many values to unpack (expected 2)",
     "output_type": "error",
     "traceback": [
      "\u001b[0;31m---------------------------------------------------------------------------\u001b[0m",
      "\u001b[0;31mValueError\u001b[0m                                Traceback (most recent call last)",
      "\u001b[0;32m<ipython-input-80-ef17524fcb27>\u001b[0m in \u001b[0;36m<module>\u001b[0;34m\u001b[0m\n\u001b[1;32m      2\u001b[0m \u001b[0;34m\u001b[0m\u001b[0m\n\u001b[1;32m      3\u001b[0m \u001b[0;32mfor\u001b[0m \u001b[0mpair\u001b[0m \u001b[0;32min\u001b[0m \u001b[0mpairs\u001b[0m\u001b[0;34m:\u001b[0m\u001b[0;34m\u001b[0m\u001b[0;34m\u001b[0m\u001b[0m\n\u001b[0;32m----> 4\u001b[0;31m     \u001b[0mscore\u001b[0m\u001b[0;34m,\u001b[0m \u001b[0mbleu\u001b[0m \u001b[0;34m=\u001b[0m \u001b[0mpair\u001b[0m\u001b[0;34m\u001b[0m\u001b[0;34m\u001b[0m\u001b[0m\n\u001b[0m\u001b[1;32m      5\u001b[0m     \u001b[0mind\u001b[0m \u001b[0;34m=\u001b[0m \u001b[0mmin\u001b[0m\u001b[0;34m(\u001b[0m\u001b[0;36m4\u001b[0m\u001b[0;34m,\u001b[0m \u001b[0mint\u001b[0m\u001b[0;34m(\u001b[0m\u001b[0mbleu\u001b[0m \u001b[0;34m/\u001b[0m \u001b[0;36m0.2\u001b[0m\u001b[0;34m)\u001b[0m\u001b[0;34m)\u001b[0m\u001b[0;34m\u001b[0m\u001b[0;34m\u001b[0m\u001b[0m\n\u001b[1;32m      6\u001b[0m     \u001b[0mbuckets\u001b[0m\u001b[0;34m[\u001b[0m\u001b[0mind\u001b[0m\u001b[0;34m,\u001b[0m \u001b[0mscore\u001b[0m\u001b[0;34m]\u001b[0m \u001b[0;34m+=\u001b[0m \u001b[0;36m1\u001b[0m\u001b[0;34m\u001b[0m\u001b[0;34m\u001b[0m\u001b[0m\n",
      "\u001b[0;31mValueError\u001b[0m: too many values to unpack (expected 2)"
     ]
    }
   ],
   "source": [
    "buckets = np.zeros((5, 5), dtype=np.int32)\n",
    "\n",
    "for pair in pairs:\n",
    "    score, bleu = pair\n",
    "    ind = min(4, int(bleu / 0.2))\n",
    "    buckets[ind, score] += 1"
   ]
  },
  {
   "cell_type": "code",
   "execution_count": null,
   "metadata": {},
   "outputs": [],
   "source": [
    "buckets[0, 0] = buckets[-1, -1] = 0\n",
    "buckets.ravel()"
   ]
  },
  {
   "cell_type": "code",
   "execution_count": null,
   "metadata": {},
   "outputs": [],
   "source": [
    "\n",
    "fig=plt.figure(figsize=(5, 5), dpi=150)\n",
    "ax1=fig.add_subplot(111, projection='3d')\n",
    "\n",
    "xpos = np.arange(5)\n",
    "ypos = np.arange(5)\n",
    "\n",
    "xposM, yposM = np.meshgrid(xpos, ypos, copy=False)\n",
    "\n",
    "zpos = buckets.ravel()\n",
    "\n",
    "dx=0.5\n",
    "dy=0.5\n",
    "dz=zpos\n",
    "\n",
    "# ax1.w_xaxis.set_ticks(xpos + dx/2.)\n",
    "\n",
    "# ax1.w_yaxis.set_ticks(ypos + dy/2.)\n",
    "\n",
    "values = np.linspace(0.2, 1., xposM.ravel().shape[0])\n",
    "colors = cm.rainbow(values)\n",
    "ax1.bar3d(xposM.ravel(), yposM.ravel(), dz*0, dx, dy, dz, color=colors)\n",
    "plt.show()"
   ]
  },
  {
   "cell_type": "markdown",
   "metadata": {},
   "source": [
    "## Other statistical tests"
   ]
  },
  {
   "cell_type": "code",
   "execution_count": 345,
   "metadata": {},
   "outputs": [],
   "source": [
    "grades_misha = [pair[0] for pair in set_misha]\n",
    "bleu_misha = [round(4*pair[1],0) for pair in set_misha]\n",
    "grades_misha_train = grades_misha[:int(len(set_misha)*4/5)]\n",
    "bleu_misha_train = np.array(bleu_misha[:int(len(set_misha)*4/5)]).reshape(-1, 1)\n",
    "grades_misha_test = grades_misha[int(len(set_misha)*4/5):]\n",
    "bleu_misha_test = np.array(bleu_misha[int(len(set_misha)*4/5):]).reshape(-1, 1)\n",
    "grades_egor = [pair[0] for pair in pairs_egor]\n",
    "grades_misha_egor = [pair[1] for pair in pairs_egor]\n",
    "bleu_egor = [round(4*pair[2]-0.067,0) for pair in pairs_egor]\n",
    "grades_egor_train = grades_egor[:int(len(pairs_egor)*4/5)]\n",
    "bleu_egor_train = np.array(bleu_egor[:int(len(pairs_egor)*4/5)]).reshape(-1, 1)\n",
    "grades_egor_test = grades_egor[int(len(pairs_egor)*4/5):]\n",
    "bleu_egor_test = np.array(bleu_egor[int(len(pairs_egor)*4/5):]).reshape(-1, 1)"
   ]
  },
  {
   "cell_type": "code",
   "execution_count": 346,
   "metadata": {},
   "outputs": [
    {
     "name": "stdout",
     "output_type": "stream",
     "text": [
      "KruskalResult(statistic=0.920544514627535, pvalue=0.3373320411191655)\n",
      "KruskalResult(statistic=8.27837846783931, pvalue=0.004011994183110913)\n",
      "KruskalResult(statistic=4.585481167097936, pvalue=0.03224391701738176)\n",
      "KruskalResult(statistic=0.027927534314653533, pvalue=0.8672793021722084)\n",
      "KruskalResult(statistic=0.9739772768778187, pvalue=0.3236902566343361)\n",
      "KruskalResult(statistic=1.3912525138685834, pvalue=0.2381936938910782)\n"
     ]
    }
   ],
   "source": [
    "from scipy.stats import kruskal\n",
    "print(kruskal(grades_misha_egor[0:500], bleu_egor[0:500]))\n",
    "print(kruskal(grades_misha_egor[0:500], grades_egor[0:500]))\n",
    "print(kruskal(grades_egor[0:500], bleu_egor[0:500]))\n",
    "print(kruskal(grades_misha_egor[500:1000], bleu_egor[500:1000]))\n",
    "print(kruskal(grades_misha_egor[500:1000], grades_egor[500:1000]))\n",
    "print(kruskal(grades_egor[500:1000], bleu_egor[500:1000]))"
   ]
  },
  {
   "cell_type": "code",
   "execution_count": 349,
   "metadata": {},
   "outputs": [
    {
     "name": "stdout",
     "output_type": "stream",
     "text": [
      "0.02999999999999999\n"
     ]
    }
   ],
   "source": [
    "tmp = 0.0\n",
    "for i in range(len(grades_misha_egor)):\n",
    "    tmp += (grades_misha_egor[i] - bleu_egor[i])/len(grades_misha_egor)\n",
    "print(tmp)"
   ]
  },
  {
   "cell_type": "code",
   "execution_count": 347,
   "metadata": {},
   "outputs": [
    {
     "name": "stdout",
     "output_type": "stream",
     "text": [
      "-0.006000000000000039\n"
     ]
    }
   ],
   "source": [
    "tmp = 0.0\n",
    "for i in range(len(grades_egor)):\n",
    "    tmp += (grades_egor[i] - bleu_egor[i])/len(grades_egor)\n",
    "print(tmp)"
   ]
  },
  {
   "cell_type": "code",
   "execution_count": 327,
   "metadata": {},
   "outputs": [
    {
     "name": "stdout",
     "output_type": "stream",
     "text": [
      "WilcoxonResult(statistic=14096.0, pvalue=6.248029958338458e-50)\n",
      "WilcoxonResult(statistic=11171.5, pvalue=0.03692169462432745)\n",
      "WilcoxonResult(statistic=33533.0, pvalue=3.404437952127685e-19)\n",
      "WilcoxonResult(statistic=14916.0, pvalue=1.2001018106897524e-47)\n",
      "WilcoxonResult(statistic=9981.0, pvalue=0.6399607069683283)\n",
      "WilcoxonResult(statistic=25830.0, pvalue=7.453475580823141e-30)\n"
     ]
    }
   ],
   "source": [
    "print(wilcoxon(grades_misha_egor[0:500], bleu_egor[0:500]))\n",
    "print(wilcoxon(grades_misha_egor[0:500], grades_egor[0:500]))\n",
    "print(wilcoxon(grades_egor[0:500], bleu_egor[0:500]))\n",
    "print(wilcoxon(grades_misha_egor[500:1000], bleu_egor[500:1000]))\n",
    "print(wilcoxon(grades_misha_egor[500:1000], grades_egor[500:1000]))\n",
    "print(wilcoxon(grades_egor[500:1000], bleu_egor[500:1000]))"
   ]
  },
  {
   "cell_type": "markdown",
   "metadata": {},
   "source": [
    "## Logistic regression and approximating metrics"
   ]
  },
  {
   "cell_type": "code",
   "execution_count": 13,
   "metadata": {},
   "outputs": [],
   "source": [
    "def myround(a, b):\n",
    "    if random.randint(1,2) == 1:\n",
    "        return int(round((a+b-0.001)/2,0))\n",
    "    else:\n",
    "        return int(round((a+b+0.001)/2,0))"
   ]
  },
  {
   "cell_type": "code",
   "execution_count": 222,
   "metadata": {},
   "outputs": [],
   "source": [
    "logbleu = [item[2] for item in pairs_egor]\n",
    "logrougel = [item[3] for item in pairs_egor]\n",
    "logmeteor = [item[4] for item in pairs_egor]\n",
    "logus = [myround(item[1], item[0]) for item in pairs_egor]\n",
    "seedbleu = [0.001*i for i in range(1001)]"
   ]
  },
  {
   "cell_type": "code",
   "execution_count": 240,
   "metadata": {},
   "outputs": [
    {
     "name": "stdout",
     "output_type": "stream",
     "text": [
      "0.4675\n",
      "0.3554\n",
      "0.6429\n"
     ]
    }
   ],
   "source": [
    "i = 5\n",
    "print(logmeteor[i])\n",
    "print(logbleu[i])\n",
    "print(logrougel[i])"
   ]
  },
  {
   "cell_type": "code",
   "execution_count": 241,
   "metadata": {},
   "outputs": [
    {
     "name": "stderr",
     "output_type": "stream",
     "text": [
      "/opt/anaconda/lib/python3.7/site-packages/sklearn/linear_model/logistic.py:432: FutureWarning: Default solver will be changed to 'lbfgs' in 0.22. Specify a solver to silence this warning.\n",
      "  FutureWarning)\n",
      "/opt/anaconda/lib/python3.7/site-packages/sklearn/utils/validation.py:724: DataConversionWarning: A column-vector y was passed when a 1d array was expected. Please change the shape of y to (n_samples, ), for example using ravel().\n",
      "  y = column_or_1d(y, warn=True)\n",
      "/opt/anaconda/lib/python3.7/site-packages/sklearn/linear_model/logistic.py:469: FutureWarning: Default multi_class will be changed to 'auto' in 0.22. Specify the multi_class option to silence this warning.\n",
      "  \"this warning.\", FutureWarning)\n",
      "/opt/anaconda/lib/python3.7/site-packages/sklearn/linear_model/logistic.py:432: FutureWarning: Default solver will be changed to 'lbfgs' in 0.22. Specify a solver to silence this warning.\n",
      "  FutureWarning)\n",
      "/opt/anaconda/lib/python3.7/site-packages/sklearn/utils/validation.py:724: DataConversionWarning: A column-vector y was passed when a 1d array was expected. Please change the shape of y to (n_samples, ), for example using ravel().\n",
      "  y = column_or_1d(y, warn=True)\n",
      "/opt/anaconda/lib/python3.7/site-packages/sklearn/linear_model/logistic.py:469: FutureWarning: Default multi_class will be changed to 'auto' in 0.22. Specify the multi_class option to silence this warning.\n",
      "  \"this warning.\", FutureWarning)\n",
      "/opt/anaconda/lib/python3.7/site-packages/sklearn/linear_model/logistic.py:432: FutureWarning: Default solver will be changed to 'lbfgs' in 0.22. Specify a solver to silence this warning.\n",
      "  FutureWarning)\n",
      "/opt/anaconda/lib/python3.7/site-packages/sklearn/utils/validation.py:724: DataConversionWarning: A column-vector y was passed when a 1d array was expected. Please change the shape of y to (n_samples, ), for example using ravel().\n",
      "  y = column_or_1d(y, warn=True)\n",
      "/opt/anaconda/lib/python3.7/site-packages/sklearn/linear_model/logistic.py:469: FutureWarning: Default multi_class will be changed to 'auto' in 0.22. Specify the multi_class option to silence this warning.\n",
      "  \"this warning.\", FutureWarning)\n"
     ]
    }
   ],
   "source": [
    "from sklearn.linear_model import LogisticRegression\n",
    "import numpy as np\n",
    "logistic = LogisticRegression()\n",
    "logistic.fit(np.array(logbleu).reshape(-1, 1), np.array(logus).reshape(-1, 1))\n",
    "outlog = logistic.predict_proba(np.array(seedbleu).reshape(-1,1))\n",
    "metlog = LogisticRegression()\n",
    "metlog.fit(np.array(logmeteor).reshape(-1, 1), np.array(logus).reshape(-1, 1))\n",
    "outmet = metlog.predict_proba(np.array(seedbleu).reshape(-1,1))\n",
    "roulog = LogisticRegression()\n",
    "roulog.fit(np.array(logrougel).reshape(-1, 1), np.array(logus).reshape(-1, 1))\n",
    "outrou = roulog.predict_proba(np.array(seedbleu).reshape(-1,1))"
   ]
  },
  {
   "cell_type": "code",
   "execution_count": 84,
   "metadata": {},
   "outputs": [],
   "source": [
    "from matplotlib import pyplot\n",
    "import scipy.stats as stats"
   ]
  },
  {
   "cell_type": "code",
   "execution_count": 228,
   "metadata": {},
   "outputs": [],
   "source": [
    "all_grades = {'grade-baseline' : [], 'grade-tranx-annot' : [], 'grade-best-tranx': [], 'grade-best-tranx-rerank': [], 'grade-snippet': []}\n",
    "rougel_grades =  {'grade-baseline' : [], 'grade-tranx-annot' : [], 'grade-best-tranx': [], 'grade-best-tranx-rerank': [], 'grade-snippet': []}\n",
    "meteor_grades =  {'grade-baseline' : [], 'grade-tranx-annot' : [], 'grade-best-tranx': [], 'grade-best-tranx-rerank': [], 'grade-snippet': []}\n",
    "for item in grad_comp:\n",
    "    all_grades[item[0]].append(item[1])\n",
    "    rougel_grades[item[0]].append(item[2])\n",
    "    meteor_grades[item[0]].append(item[3])"
   ]
  },
  {
   "cell_type": "code",
   "execution_count": null,
   "metadata": {},
   "outputs": [],
   "source": [
    "for nam in ['grade-baseline', 'grade-tranx-annot', 'grade-best-tranx', 'grade-best-tranx-rerank']"
   ]
  },
  {
   "cell_type": "markdown",
   "metadata": {},
   "source": [
    "## Computing probabilities"
   ]
  },
  {
   "cell_type": "markdown",
   "metadata": {},
   "source": [
    "### BLEU"
   ]
  },
  {
   "cell_type": "code",
   "execution_count": 177,
   "metadata": {},
   "outputs": [],
   "source": [
    "def contract_prob(biglist, smlist, cut):\n",
    "    outlist = [0]*(len(biglist))\n",
    "    for i in range(cut):\n",
    "        for j in range(len(smlist)):\n",
    "            outlist[i+j] += biglist[i]*smlist[j]\n",
    "    return outlist"
   ]
  },
  {
   "cell_type": "code",
   "execution_count": 190,
   "metadata": {},
   "outputs": [],
   "source": [
    "names = ['grade-baseline', 'grade-tranx-annot', 'grade-best-tranx', 'grade-best-tranx-rerank']\n",
    "probdict = dict()\n",
    "#problist = [0]*2001\n",
    "#problist[0] = 1\n",
    "for nam in names:\n",
    "    probdict[nam] = [0 for i in range(2001)]\n",
    "    probdict[nam][0] = 1\n",
    "    cut = 1\n",
    "    for j in all_grades[nam]:\n",
    "        probdict[nam] = contract_prob(probdict[nam], outlog.tolist()[int(1000*round(j,3))], cut)\n",
    "        cut += 4"
   ]
  },
  {
   "cell_type": "code",
   "execution_count": 224,
   "metadata": {},
   "outputs": [
    {
     "data": {
      "image/png": "[encoded data removed]",
      "text/plain": [
       "<Figure size 1080x540 with 1 Axes>"
      ]
     },
     "metadata": {
      "needs_background": "light"
     },
     "output_type": "display_data"
    }
   ],
   "source": [
    "pyplot.figure(figsize=(15,7.5))\n",
    "for nam in names:\n",
    "    pyplot.scatter([i/500 for i in range(2001)], probdict[nam])\n",
    "plt.legend(['baseline', 'tranx-annot', 'best-tranx', 'best-tranx-rerank'], loc='upper right', fontsize=20)\n",
    "plt.ylabel('Probability', fontsize=20)\n",
    "plt.xlabel('Predicted human grade', fontsize=20)\n",
    "plt.title('Predicted human grade distribution with BLEU for various datasets', fontsize = 20)\n",
    "pyplot.show()"
   ]
  },
  {
   "cell_type": "code",
   "execution_count": 204,
   "metadata": {},
   "outputs": [
    {
     "name": "stdout",
     "output_type": "stream",
     "text": [
      "The probability grade-tranx-annot has greater BLEU than grade-baseline is 1.0\n",
      "The probability grade-best-tranx has greater BLEU than grade-baseline is 1.0\n",
      "The probability grade-best-tranx-rerank has greater BLEU than grade-baseline is 1.0\n",
      "The probability grade-best-tranx has greater BLEU than grade-tranx-annot is 0.747\n",
      "The probability grade-best-tranx-rerank has greater BLEU than grade-tranx-annot is 0.897\n",
      "The probability grade-best-tranx-rerank has greater BLEU than grade-best-tranx is 0.722\n"
     ]
    }
   ],
   "source": [
    "for j in range(len(names)):\n",
    "    for k in range(j+1, len(names)):\n",
    "        comp_prob = 0\n",
    "        for i in range(len(probdict[names[j]])-1):\n",
    "            comp_prob += probdict[names[j]][i]*sum(probdict[names[k]][i+1:])\n",
    "        print('The probability ' + names[k] + ' has greater BLEU than ' + names[j] + ' is ' + str(round(comp_prob, 3)))"
   ]
  },
  {
   "cell_type": "code",
   "execution_count": 219,
   "metadata": {},
   "outputs": [
    {
     "name": "stdout",
     "output_type": "stream",
     "text": [
      "grade-baseline 0.1482944\n",
      "grade-tranx-annot 0.2570804\n",
      "grade-best-tranx 0.27723722334004025\n",
      "grade-best-tranx-rerank 0.2923828\n"
     ]
    }
   ],
   "source": [
    "for nam in names:\n",
    "    print(nam + ' ' + str(np.mean(all_grades[nam])))"
   ]
  },
  {
   "cell_type": "code",
   "execution_count": 220,
   "metadata": {},
   "outputs": [
    {
     "data": {
      "text/html": [
       "<table>\n",
       "<tbody>\n",
       "<tr><td>Model A          </td><td>Model B    </td><td>P(A is better than B)</td></tr>\n",
       "<tr><td>best-tranx       </td><td>tranx-annot</td><td>0.747                </td></tr>\n",
       "<tr><td>best-tranx-rerank</td><td>tranx-annot</td><td>0.897                </td></tr>\n",
       "<tr><td>best-tranx-rerank</td><td>best-tranx </td><td>0.722                </td></tr>\n",
       "</tbody>\n",
       "</table>"
      ],
      "text/plain": [
       "<IPython.core.display.HTML object>"
      ]
     },
     "metadata": {},
     "output_type": "display_data"
    }
   ],
   "source": [
    "tmp = [['Model A', 'Model B', 'P(A is better than B)']]\n",
    "tmp.append(['best-tranx', 'tranx-annot', str(0.747)])\n",
    "tmp.append(['best-tranx-rerank', 'tranx-annot', str(0.897)])\n",
    "tmp.append(['best-tranx-rerank', 'best-tranx', str(0.722)])\n",
    "#    tmp.append([nam, 'METEOR', 'BLEU', str(round(pear(bleuds[nam], meteor[nam])[0],4))])\n",
    "#    tmp.append([nam, 'ROUGE-L', 'METEOR', str(round(pear(meteor[nam], rougel[nam])[0],4))])\n",
    "from IPython.display import HTML, display\n",
    "import tabulate\n",
    "display(HTML(tabulate.tabulate(tmp, tablefmt='html')))"
   ]
  },
  {
   "cell_type": "markdown",
   "metadata": {},
   "source": [
    "### ROUGE-L"
   ]
  },
  {
   "cell_type": "code",
   "execution_count": 242,
   "metadata": {},
   "outputs": [],
   "source": [
    "names = ['grade-baseline', 'grade-tranx-annot', 'grade-best-tranx', 'grade-best-tranx-rerank']\n",
    "roudict = dict()\n",
    "#problist = [0]*2001\n",
    "#problist[0] = 1\n",
    "for nam in names:\n",
    "    roudict[nam] = [0 for i in range(2001)]\n",
    "    roudict[nam][0] = 1\n",
    "    cut = 1\n",
    "    for j in rougel_grades[nam]:\n",
    "        roudict[nam] = contract_prob(roudict[nam], outrou.tolist()[int(1000*round(j,3))], cut)\n",
    "        cut += 4"
   ]
  },
  {
   "cell_type": "code",
   "execution_count": 244,
   "metadata": {},
   "outputs": [
    {
     "data": {
      "image/png": "[encoded data removed]",
      "text/plain": [
       "<Figure size 1080x540 with 1 Axes>"
      ]
     },
     "metadata": {
      "needs_background": "light"
     },
     "output_type": "display_data"
    }
   ],
   "source": [
    "pyplot.figure(figsize=(15,7.5))\n",
    "for nam in names:\n",
    "    pyplot.scatter([i/500 for i in range(2001)], roudict[nam])\n",
    "plt.legend(['baseline', 'tranx-annot', 'best-tranx', 'best-tranx-rerank'], loc='upper right', fontsize=20)\n",
    "plt.ylabel('Probability', fontsize=20)\n",
    "plt.xlabel('Predicted human grade', fontsize=20)\n",
    "plt.title('Predicted human grade distribution with ROUGE-L for various datasets', fontsize = 20)\n",
    "pyplot.show()"
   ]
  },
  {
   "cell_type": "code",
   "execution_count": 245,
   "metadata": {},
   "outputs": [
    {
     "name": "stdout",
     "output_type": "stream",
     "text": [
      "The probability grade-tranx-annot has greater ROUGE-L than grade-baseline is 1.0\n",
      "The probability grade-best-tranx has greater ROUGE-L than grade-baseline is 1.0\n",
      "The probability grade-best-tranx-rerank has greater ROUGE-L than grade-baseline is 1.0\n",
      "The probability grade-best-tranx has greater ROUGE-L than grade-tranx-annot is 0.767\n",
      "The probability grade-best-tranx-rerank has greater ROUGE-L than grade-tranx-annot is 0.922\n",
      "The probability grade-best-tranx-rerank has greater ROUGE-L than grade-best-tranx is 0.751\n"
     ]
    }
   ],
   "source": [
    "for j in range(len(names)):\n",
    "    for k in range(j+1, len(names)):\n",
    "        comp_prob = 0\n",
    "        for i in range(len(roudict[names[j]])-1):\n",
    "            comp_prob += roudict[names[j]][i]*sum(roudict[names[k]][i+1:])\n",
    "        print('The probability ' + names[k] + ' has greater ROUGE-L than ' + names[j] + ' is ' + str(round(comp_prob, 3)))"
   ]
  },
  {
   "cell_type": "code",
   "execution_count": 234,
   "metadata": {},
   "outputs": [
    {
     "name": "stdout",
     "output_type": "stream",
     "text": [
      "grade-baseline 0.3975766\n",
      "grade-tranx-annot 0.5340952\n",
      "grade-best-tranx 0.5541416498993964\n",
      "grade-best-tranx-rerank 0.5684948\n"
     ]
    }
   ],
   "source": [
    "for nam in names:\n",
    "    print(nam + ' ' + str(np.mean(rougel_grades[nam])))"
   ]
  },
  {
   "cell_type": "code",
   "execution_count": 248,
   "metadata": {},
   "outputs": [
    {
     "data": {
      "text/html": [
       "<table>\n",
       "<tbody>\n",
       "<tr><td>Model A          </td><td>Model B    </td><td>P(A is better than B | ROUGE-L)</td></tr>\n",
       "<tr><td>best-tranx       </td><td>tranx-annot</td><td>0.767                          </td></tr>\n",
       "<tr><td>best-tranx-rerank</td><td>tranx-annot</td><td>0.922                          </td></tr>\n",
       "<tr><td>best-tranx-rerank</td><td>best-tranx </td><td>0.751                          </td></tr>\n",
       "</tbody>\n",
       "</table>"
      ],
      "text/plain": [
       "<IPython.core.display.HTML object>"
      ]
     },
     "metadata": {},
     "output_type": "display_data"
    }
   ],
   "source": [
    "tmp = [['Model A', 'Model B', 'P(A is better than B | ROUGE-L)']]\n",
    "tmp.append(['best-tranx', 'tranx-annot', str(0.767)])\n",
    "tmp.append(['best-tranx-rerank', 'tranx-annot', str(0.922)])\n",
    "tmp.append(['best-tranx-rerank', 'best-tranx', str(0.751)])\n",
    "#    tmp.append([nam, 'METEOR', 'BLEU', str(round(pear(bleuds[nam], meteor[nam])[0],4))])\n",
    "#    tmp.append([nam, 'ROUGE-L', 'METEOR', str(round(pear(meteor[nam], rougel[nam])[0],4))])\n",
    "from IPython.display import HTML, display\n",
    "import tabulate\n",
    "display(HTML(tabulate.tabulate(tmp, tablefmt='html')))"
   ]
  },
  {
   "cell_type": "markdown",
   "metadata": {},
   "source": [
    "### METEOR"
   ]
  },
  {
   "cell_type": "code",
   "execution_count": 249,
   "metadata": {},
   "outputs": [],
   "source": [
    "names = ['grade-baseline', 'grade-tranx-annot', 'grade-best-tranx', 'grade-best-tranx-rerank']\n",
    "metdict = dict()\n",
    "#problist = [0]*2001\n",
    "#problist[0] = 1\n",
    "for nam in names:\n",
    "    metdict[nam] = [0 for i in range(2001)]\n",
    "    metdict[nam][0] = 1\n",
    "    cut = 1\n",
    "    for j in meteor_grades[nam]:\n",
    "        metdict[nam] = contract_prob(metdict[nam], outmet.tolist()[int(1000*round(j,3))], cut)\n",
    "        cut += 4"
   ]
  },
  {
   "cell_type": "code",
   "execution_count": 250,
   "metadata": {},
   "outputs": [
    {
     "data": {
      "image/png": "[encoded data removed]",
      "text/plain": [
       "<Figure size 1080x540 with 1 Axes>"
      ]
     },
     "metadata": {
      "needs_background": "light"
     },
     "output_type": "display_data"
    }
   ],
   "source": [
    "pyplot.figure(figsize=(15,7.5))\n",
    "for nam in names:\n",
    "    pyplot.scatter([i/500 for i in range(2001)], metdict[nam])\n",
    "plt.legend(['baseline', 'tranx-annot', 'best-tranx', 'best-tranx-rerank'], loc='upper right', fontsize=20)\n",
    "plt.ylabel('Probability', fontsize=20)\n",
    "plt.xlabel('Predicted human grade', fontsize=20)\n",
    "plt.title('Predicted human grade distribution with METEOR for various datasets', fontsize = 20)\n",
    "pyplot.show()"
   ]
  },
  {
   "cell_type": "code",
   "execution_count": 251,
   "metadata": {},
   "outputs": [
    {
     "name": "stdout",
     "output_type": "stream",
     "text": [
      "The probability grade-tranx-annot has greater METEOR than grade-baseline is 1.0\n",
      "The probability grade-best-tranx has greater METEOR than grade-baseline is 1.0\n",
      "The probability grade-best-tranx-rerank has greater METEOR than grade-baseline is 1.0\n",
      "The probability grade-best-tranx has greater METEOR than grade-tranx-annot is 0.856\n",
      "The probability grade-best-tranx-rerank has greater METEOR than grade-tranx-annot is 0.97\n",
      "The probability grade-best-tranx-rerank has greater METEOR than grade-best-tranx is 0.793\n"
     ]
    }
   ],
   "source": [
    "for j in range(len(names)):\n",
    "    for k in range(j+1, len(names)):\n",
    "        comp_prob = 0\n",
    "        for i in range(len(metdict[names[j]])-1):\n",
    "            comp_prob += metdict[names[j]][i]*sum(metdict[names[k]][i+1:])\n",
    "        print('The probability ' + names[k] + ' has greater METEOR than ' + names[j] + ' is ' + str(round(comp_prob, 3)))"
   ]
  },
  {
   "cell_type": "code",
   "execution_count": 252,
   "metadata": {},
   "outputs": [
    {
     "name": "stdout",
     "output_type": "stream",
     "text": [
      "grade-baseline 0.28039179999999997\n",
      "grade-tranx-annot 0.43262459999999997\n",
      "grade-best-tranx 0.4615307847082495\n",
      "grade-best-tranx-rerank 0.4780336\n"
     ]
    }
   ],
   "source": [
    "for nam in names:\n",
    "    print(nam + ' ' + str(np.mean(meteor_grades[nam])))"
   ]
  },
  {
   "cell_type": "code",
   "execution_count": 253,
   "metadata": {},
   "outputs": [
    {
     "data": {
      "text/html": [
       "<table>\n",
       "<tbody>\n",
       "<tr><td>Model A          </td><td>Model B    </td><td>P(A is better than B | METEOR)</td></tr>\n",
       "<tr><td>best-tranx       </td><td>tranx-annot</td><td>0.856                         </td></tr>\n",
       "<tr><td>best-tranx-rerank</td><td>tranx-annot</td><td>0.97                          </td></tr>\n",
       "<tr><td>best-tranx-rerank</td><td>best-tranx </td><td>0.793                         </td></tr>\n",
       "</tbody>\n",
       "</table>"
      ],
      "text/plain": [
       "<IPython.core.display.HTML object>"
      ]
     },
     "metadata": {},
     "output_type": "display_data"
    }
   ],
   "source": [
    "tmp = [['Model A', 'Model B', 'P(A is better than B | METEOR)']]\n",
    "tmp.append(['best-tranx', 'tranx-annot', str(0.856)])\n",
    "tmp.append(['best-tranx-rerank', 'tranx-annot', str(0.970)])\n",
    "tmp.append(['best-tranx-rerank', 'best-tranx', str(0.793)])\n",
    "#    tmp.append([nam, 'METEOR', 'BLEU', str(round(pear(bleuds[nam], meteor[nam])[0],4))])\n",
    "#    tmp.append([nam, 'ROUGE-L', 'METEOR', str(round(pear(meteor[nam], rougel[nam])[0],4))])\n",
    "from IPython.display import HTML, display\n",
    "import tabulate\n",
    "display(HTML(tabulate.tabulate(tmp, tablefmt='html')))"
   ]
  },
  {
   "cell_type": "markdown",
   "metadata": {},
   "source": [
    "## Human mean distribution"
   ]
  },
  {
   "cell_type": "markdown",
   "metadata": {},
   "source": [
    "### BLEU"
   ]
  },
  {
   "cell_type": "code",
   "execution_count": 255,
   "metadata": {},
   "outputs": [
    {
     "name": "stdout",
     "output_type": "stream",
     "text": [
      "grade-baseline 0.1482944\n",
      "grade-tranx-annot 0.2570804\n",
      "grade-best-tranx 0.27723722334004025\n",
      "grade-best-tranx-rerank 0.2923828\n"
     ]
    }
   ],
   "source": [
    "for nam in names:\n",
    "    print(nam + ' ' + str(np.mean(all_grades[nam])))"
   ]
  },
  {
   "cell_type": "code",
   "execution_count": 366,
   "metadata": {},
   "outputs": [],
   "source": [
    "mean_bleu = {'grade-baseline': [0]*4, 'grade-tranx-annot': [0]*4, 'grade-best-tranx': [0]*4, 'grade-best-tranx-rerank': [0]*4}\n",
    "for nam in names:\n",
    "    temp = []\n",
    "    aver = np.mean(all_grades[nam])\n",
    "    temp = [[aver for i in range(500)]]\n",
    "    temp.append([aver*2*np.heaviside(i - 250, 1/2) for i in range(500)])\n",
    "    temp.append([aver*3*np.heaviside(i - 1000/3, 1/2) for i in range(500)])\n",
    "    temp.append([np.heaviside(i - 500*(1-aver), 1/2) for i in range(500)])\n",
    "    i = 0\n",
    "    for subl in temp:\n",
    "        temp_grade = 0\n",
    "        for j in subl:\n",
    "            for k in range(5):\n",
    "                temp_grade += k * outlog.tolist()[int(j*1000)][k] / 500\n",
    "        mean_bleu[nam][i] = temp_grade\n",
    "        i += 1"
   ]
  },
  {
   "cell_type": "code",
   "execution_count": 367,
   "metadata": {},
   "outputs": [],
   "source": [
    "mean_rougel = {'grade-baseline': [0]*4, 'grade-tranx-annot': [0]*4, 'grade-best-tranx': [0]*4, 'grade-best-tranx-rerank': [0]*4}\n",
    "for nam in names:\n",
    "    temp = []\n",
    "    aver = np.mean(rougel_grades[nam])\n",
    "    temp = [[aver for i in range(500)]]\n",
    "    temp.append([aver*3*np.heaviside(i - 500/3, 1/2)/2 for i in range(500)])\n",
    "    temp.append([aver*4*np.heaviside(i - 125, 1/2)/3 for i in range(500)])\n",
    "    temp.append([np.heaviside(i - 500*(1-aver), 1/2) for i in range(500)])\n",
    "    i = 0\n",
    "    for subl in temp:\n",
    "        temp_grade = 0\n",
    "        for j in subl:\n",
    "            for k in range(5):\n",
    "                temp_grade += k * outrou.tolist()[int(j*1000)][k] / 500\n",
    "        mean_rougel[nam][i] = temp_grade\n",
    "        i += 1"
   ]
  },
  {
   "cell_type": "code",
   "execution_count": 373,
   "metadata": {},
   "outputs": [],
   "source": [
    "mean_meteor = {'grade-baseline': [0]*4, 'grade-tranx-annot': [0]*4, 'grade-best-tranx': [0]*4, 'grade-best-tranx-rerank': [0]*4}\n",
    "for nam in names:\n",
    "    temp = []\n",
    "    aver = np.mean(meteor_grades[nam])\n",
    "    temp = [[aver for i in range(500)]]\n",
    "    temp.append([aver*3*np.heaviside(i - 500/3, 1/2)/2 for i in range(500)])\n",
    "    temp.append([aver*4*np.heaviside(i - 125, 1/2)/3 for i in range(500)])\n",
    "    temp.append([np.heaviside(i - 500*(1-aver), 1/2) for i in range(500)])\n",
    "    i = 0\n",
    "    for subl in temp:\n",
    "        temp_grade = 0\n",
    "        for j in subl:\n",
    "            for k in range(5):\n",
    "                temp_grade += k * outmet.tolist()[int(j*1000)][k] / 500\n",
    "        mean_meteor[nam][i] = temp_grade\n",
    "        i += 1"
   ]
  },
  {
   "cell_type": "code",
   "execution_count": 374,
   "metadata": {},
   "outputs": [
    {
     "name": "stdout",
     "output_type": "stream",
     "text": [
      "bleu grade-baseline 0.7269843160239263 0.9743377597669625\n",
      "rouge-l grade-baseline 0.6287048482174593 1.441196539901389\n",
      "meteor grade-baseline 0.6349991780519109 1.1610335866010562\n",
      "bleu grade-tranx-annot 0.9379115106511778 1.336104142946693\n",
      "rouge-l grade-tranx-annot 0.9540101336148511 1.8068120406560606\n",
      "meteor grade-tranx-annot 0.933627106376861 1.5575279885537636\n",
      "bleu grade-best-tranx 0.9883103164971101 1.386808633504195\n",
      "rouge-l grade-best-tranx 1.0235585727505092 1.8597997943886218\n",
      "meteor grade-best-tranx 1.0159207356858357 1.6305664310187353\n",
      "bleu grade-best-tranx-rerank 1.028734375930424 1.4182671277732242\n",
      "rouge-l grade-best-tranx-rerank 1.0760954450729712 1.8968912220014145\n",
      "meteor grade-best-tranx-rerank 1.068483420409784 1.6775197154605028\n"
     ]
    }
   ],
   "source": [
    "for nam in names:\n",
    "    print('bleu', nam, min(mean_bleu[nam]), max(mean_bleu[nam]))\n",
    "    print('rouge-l', nam, min(mean_rougel[nam]), max(mean_rougel[nam]))\n",
    "    print('meteor', nam, min(mean_meteor[nam]), max(mean_meteor[nam]))"
   ]
  },
  {
   "cell_type": "code",
   "execution_count": 383,
   "metadata": {},
   "outputs": [
    {
     "data": {
      "text/plain": [
       "{'grade-baseline': [0.7269843160239263,\n",
       "  0.8044871069217129,\n",
       "  0.9003748860130167,\n",
       "  0.9743377597669625],\n",
       " 'grade-tranx-annot': [0.9379115106511778,\n",
       "  1.2183890761519103,\n",
       "  1.336104142946693,\n",
       "  1.2691573848926883],\n",
       " 'grade-best-tranx': [0.9883103164971101,\n",
       "  1.3080282843201234,\n",
       "  1.386808633504195,\n",
       "  1.3237536117678228],\n",
       " 'grade-best-tranx-rerank': [1.028734375930424,\n",
       "  1.3745176591185515,\n",
       "  1.4182671277732242,\n",
       "  1.3674305932679305]}"
      ]
     },
     "execution_count": 383,
     "metadata": {},
     "output_type": "execute_result"
    }
   ],
   "source": [
    "mean_bleu"
   ]
  },
  {
   "cell_type": "code",
   "execution_count": 382,
   "metadata": {},
   "outputs": [
    {
     "data": {
      "image/png": "[encoded data removed]",
      "text/plain": [
       "<Figure size 1080x540 with 1 Axes>"
      ]
     },
     "metadata": {
      "needs_background": "light"
     },
     "output_type": "display_data"
    }
   ],
   "source": [
    "distrib = [[0 for i in range(1001)] for j in range(3)]\n",
    "plt.figure(figsize=(15,7.5))\n",
    "for i in range(1001):\n",
    "    for k in range(5):\n",
    "        distrib[0][i] += k*outlog.tolist()[i][k]\n",
    "        distrib[1][i] += k*outrou.tolist()[i][k]\n",
    "        distrib[2][i] += k*outmet.tolist()[i][k]\n",
    "plt.scatter([i/1000 for i in range(1001)], distrib[0])\n",
    "plt.scatter([i/1000 for i in range(1001)], distrib[1])\n",
    "plt.scatter([i/1000 for i in range(1001)], distrib[2])\n",
    "plt.legend(['BLEU', 'ROUGE-L', 'METEOR'], loc='upper left', fontsize=20)\n",
    "plt.ylabel('Predicted human grade', fontsize=20)\n",
    "plt.xlabel('Metric grade', fontsize=20)\n",
    "plt.title('Predicted human grade distribution with various metrics', fontsize = 20)\n",
    "plt.show()"
   ]
  },
  {
   "cell_type": "markdown",
   "metadata": {},
   "source": [
    "## Mean equality tests"
   ]
  },
  {
   "cell_type": "markdown",
   "metadata": {},
   "source": [
    "### Human grades between themselves"
   ]
  },
  {
   "cell_type": "code",
   "execution_count": 334,
   "metadata": {},
   "outputs": [
    {
     "name": "stdout",
     "output_type": "stream",
     "text": [
      "grade-tranx-annot KruskalResult(statistic=2.252216750571731, pvalue=0.9868226104968015)\n",
      "grade-best-tranx KruskalResult(statistic=9.534430028521337, pvalue=0.389471715821148)\n",
      "grade-best-tranx-rerank KruskalResult(statistic=9.940571239961008, pvalue=0.35531772707990766)\n",
      "grade-baseline KruskalResult(statistic=3.1972176674303707, pvalue=0.9559597298240923)\n"
     ]
    }
   ],
   "source": [
    "import scipy.stats as stats\n",
    "subset_length = 50\n",
    "grades_dict_test = {'grade-baseline': [[] for i in range(int(500/subset_length))], \n",
    "                   'grade-tranx-annot': [[] for i in range(int(500/subset_length))],\n",
    "                   'grade-best-tranx': [[] for i in range(int(500/subset_length))],\n",
    "                   'grade-best-tranx-rerank': [[] for i in range(int(500/subset_length))]}\n",
    "for nam in ['grade-tranx-annot', 'grade-best-tranx', 'grade-best-tranx-rerank', 'grade-baseline']:\n",
    "    lst = [i for i in range(500)]\n",
    "    random.shuffle(lst)\n",
    "    i = 0\n",
    "    for item in grad_comp:\n",
    "        if item[0] == nam:\n",
    "            grades_dict_test[nam][lst[i] // subset_length].append(item[4])\n",
    "            i += 1\n",
    "    print(nam, stats.kruskal(*grades_dict_test[nam]))"
   ]
  },
  {
   "cell_type": "markdown",
   "metadata": {},
   "source": [
    "### Average human grade"
   ]
  },
  {
   "cell_type": "code",
   "execution_count": 402,
   "metadata": {},
   "outputs": [
    {
     "name": "stdout",
     "output_type": "stream",
     "text": [
      "grade-baseline   grade-tranx-annot   WilcoxonResult(statistic=5174.0, pvalue=2.843790623742691e-28)\n",
      "grade-baseline   grade-best-tranx   WilcoxonResult(statistic=3942.5, pvalue=9.406155813762372e-41)\n",
      "grade-baseline   grade-best-tranx-rerank   WilcoxonResult(statistic=3052.5, pvalue=2.2117005890633072e-44)\n",
      "grade-tranx-annot   grade-best-tranx   WilcoxonResult(statistic=22262.0, pvalue=1.0207985202313015e-05)\n",
      "grade-tranx-annot   grade-best-tranx-rerank   WilcoxonResult(statistic=15297.0, pvalue=5.510656291623108e-11)\n",
      "grade-best-tranx   grade-best-tranx-rerank   WilcoxonResult(statistic=23825.0, pvalue=0.0907698778884542)\n"
     ]
    }
   ],
   "source": [
    "for i1 in range(len(names)):\n",
    "    t1 = []\n",
    "    for item in grad_comp:\n",
    "        if item[0] == names[i1]:\n",
    "            t1.append(item[4])\n",
    "    for i2 in range(i1+1, len(names)):\n",
    "        t2 = []\n",
    "        for item in grad_comp:\n",
    "            if item[0] == names[i2]:\n",
    "                t2.append(item[4])\n",
    "        if len(t2) != len(t1):\n",
    "            t2 = t2[:min(len(t1),len(t2))]\n",
    "            t1 = t1[:min(len(t1),len(t2))]\n",
    "        if i1 != i2:\n",
    "            print(names[i1], ' ', names[i2], ' ', stats.wilcoxon(t1,t2))"
   ]
  },
  {
   "cell_type": "markdown",
   "metadata": {},
   "source": [
    "### BLEU"
   ]
  },
  {
   "cell_type": "code",
   "execution_count": 403,
   "metadata": {},
   "outputs": [
    {
     "name": "stdout",
     "output_type": "stream",
     "text": [
      "grade-baseline   grade-tranx-annot   WilcoxonResult(statistic=25772.5, pvalue=4.926856668660179e-29)\n",
      "grade-baseline   grade-best-tranx   WilcoxonResult(statistic=27808.5, pvalue=3.3304337417881885e-26)\n",
      "grade-baseline   grade-best-tranx-rerank   WilcoxonResult(statistic=19503.5, pvalue=1.65466484861388e-39)\n",
      "grade-tranx-annot   grade-best-tranx   WilcoxonResult(statistic=56014.5, pvalue=0.2739254914110867)\n",
      "grade-tranx-annot   grade-best-tranx-rerank   WilcoxonResult(statistic=42748.5, pvalue=6.13005866541755e-05)\n",
      "grade-best-tranx   grade-best-tranx-rerank   WilcoxonResult(statistic=33983.5, pvalue=0.1253433975481766)\n"
     ]
    }
   ],
   "source": [
    "for i1 in range(len(names)):\n",
    "    t1 = []\n",
    "    for item in grad_comp:\n",
    "        if item[0] == names[i1]:\n",
    "            t1.append(item[1])\n",
    "    for i2 in range(i1+1, len(names)):\n",
    "        t2 = []\n",
    "        for item in grad_comp:\n",
    "            if item[0] == names[i2]:\n",
    "                t2.append(item[1])\n",
    "        if len(t2) != len(t1):\n",
    "            t2 = t2[:min(len(t1),len(t2))]\n",
    "            t1 = t1[:min(len(t1),len(t2))]\n",
    "        if i1 != i2:\n",
    "            print(names[i1], ' ', names[i2], ' ', stats.wilcoxon(t1,t2))"
   ]
  },
  {
   "cell_type": "markdown",
   "metadata": {},
   "source": [
    "### ROUGE"
   ]
  },
  {
   "cell_type": "code",
   "execution_count": 404,
   "metadata": {},
   "outputs": [
    {
     "name": "stdout",
     "output_type": "stream",
     "text": [
      "grade-baseline   grade-tranx-annot   WilcoxonResult(statistic=22215.5, pvalue=2.462007687628899e-34)\n",
      "grade-baseline   grade-best-tranx   WilcoxonResult(statistic=22570.5, pvalue=4.3785564645835035e-33)\n",
      "grade-baseline   grade-best-tranx-rerank   WilcoxonResult(statistic=15328.0, pvalue=2.4471176736569936e-46)\n",
      "grade-tranx-annot   grade-best-tranx   WilcoxonResult(statistic=54137.5, pvalue=0.1396368420732555)\n",
      "grade-tranx-annot   grade-best-tranx-rerank   WilcoxonResult(statistic=41094.0, pvalue=1.1925594344791912e-05)\n",
      "grade-best-tranx   grade-best-tranx-rerank   WilcoxonResult(statistic=33491.0, pvalue=0.09378385226446068)\n"
     ]
    }
   ],
   "source": [
    "for i1 in range(len(names)):\n",
    "    t1 = []\n",
    "    for item in grad_comp:\n",
    "        if item[0] == names[i1]:\n",
    "            t1.append(item[2])\n",
    "    for i2 in range(i1+1, len(names)):\n",
    "        t2 = []\n",
    "        for item in grad_comp:\n",
    "            if item[0] == names[i2]:\n",
    "                t2.append(item[2])\n",
    "        if len(t2) != len(t1):\n",
    "            t2 = t2[:min(len(t1),len(t2))]\n",
    "            t1 = t1[:min(len(t1),len(t2))]\n",
    "        if i1 != i2:\n",
    "            print(names[i1], ' ', names[i2], ' ', stats.wilcoxon(t1,t2))"
   ]
  },
  {
   "cell_type": "markdown",
   "metadata": {},
   "source": [
    "### METEOR"
   ]
  },
  {
   "cell_type": "code",
   "execution_count": 405,
   "metadata": {},
   "outputs": [
    {
     "name": "stdout",
     "output_type": "stream",
     "text": [
      "grade-baseline   grade-tranx-annot   WilcoxonResult(statistic=23726.0, pvalue=1.7375956901798175e-32)\n",
      "grade-baseline   grade-best-tranx   WilcoxonResult(statistic=23060.5, pvalue=8.535111403244829e-34)\n",
      "grade-baseline   grade-best-tranx-rerank   WilcoxonResult(statistic=16690.5, pvalue=9.439644147463211e-45)\n",
      "grade-tranx-annot   grade-best-tranx   WilcoxonResult(statistic=54745.5, pvalue=0.08495907586644565)\n",
      "grade-tranx-annot   grade-best-tranx-rerank   WilcoxonResult(statistic=40839.0, pvalue=2.2528566015980837e-06)\n",
      "grade-best-tranx   grade-best-tranx-rerank   WilcoxonResult(statistic=34251.0, pvalue=0.13538726430331335)\n"
     ]
    }
   ],
   "source": [
    "for i1 in range(len(names)):\n",
    "    t1 = []\n",
    "    for item in grad_comp:\n",
    "        if item[0] == names[i1]:\n",
    "            t1.append(item[3])\n",
    "    for i2 in range(i1+1, len(names)):\n",
    "        t2 = []\n",
    "        for item in grad_comp:\n",
    "            if item[0] == names[i2]:\n",
    "                t2.append(item[3])\n",
    "        if len(t2) != len(t1):\n",
    "            t2 = t2[:min(len(t1),len(t2))]\n",
    "            t1 = t1[:min(len(t1),len(t2))]\n",
    "        if i1 != i2:\n",
    "            print(names[i1], ' ', names[i2], ' ', stats.wilcoxon(t1,t2))"
   ]
  },
  {
   "cell_type": "markdown",
   "metadata": {},
   "source": [
    "### Misha"
   ]
  },
  {
   "cell_type": "code",
   "execution_count": 406,
   "metadata": {},
   "outputs": [
    {
     "name": "stdout",
     "output_type": "stream",
     "text": [
      "grade-baseline   grade-tranx-annot   WilcoxonResult(statistic=4797.5, pvalue=2.6451110862226625e-36)\n",
      "grade-baseline   grade-best-tranx   WilcoxonResult(statistic=4590.0, pvalue=2.698016609487783e-43)\n",
      "grade-baseline   grade-best-tranx-rerank   WilcoxonResult(statistic=2837.5, pvalue=3.4532582207144854e-49)\n",
      "grade-tranx-annot   grade-best-tranx   WilcoxonResult(statistic=21131.0, pvalue=0.000682968088993353)\n",
      "grade-tranx-annot   grade-best-tranx-rerank   WilcoxonResult(statistic=16122.5, pvalue=2.084313811682087e-09)\n",
      "grade-best-tranx   grade-best-tranx-rerank   WilcoxonResult(statistic=23582.5, pvalue=0.03527388380382542)\n"
     ]
    }
   ],
   "source": [
    "for i1 in range(len(names)):\n",
    "    t1 = []\n",
    "    for item in grad_comp:\n",
    "        if item[0] == names[i1]:\n",
    "            t1.append(item[6])\n",
    "    for i2 in range(i1+1, len(names)):\n",
    "        t2 = []\n",
    "        for item in grad_comp:\n",
    "            if item[0] == names[i2]:\n",
    "                t2.append(item[6])\n",
    "        if len(t2) != len(t1):\n",
    "            t2 = t2[:min(len(t1),len(t2))]\n",
    "            t1 = t1[:min(len(t1),len(t2))]\n",
    "        if i1 != i2:\n",
    "            print(names[i1], ' ', names[i2], ' ', stats.wilcoxon(t1,t2))"
   ]
  },
  {
   "cell_type": "markdown",
   "metadata": {},
   "source": [
    "### Egor"
   ]
  },
  {
   "cell_type": "code",
   "execution_count": 407,
   "metadata": {},
   "outputs": [
    {
     "name": "stdout",
     "output_type": "stream",
     "text": [
      "grade-baseline   grade-tranx-annot   WilcoxonResult(statistic=2096.0, pvalue=2.6876999598038186e-20)\n",
      "grade-baseline   grade-best-tranx   WilcoxonResult(statistic=2246.5, pvalue=2.7477280418050473e-30)\n",
      "grade-baseline   grade-best-tranx-rerank   WilcoxonResult(statistic=1488.0, pvalue=9.109663766783772e-35)\n",
      "grade-tranx-annot   grade-best-tranx   WilcoxonResult(statistic=13693.0, pvalue=2.6373038417040067e-05)\n",
      "grade-tranx-annot   grade-best-tranx-rerank   WilcoxonResult(statistic=9750.5, pvalue=1.1953647308932679e-09)\n",
      "grade-best-tranx   grade-best-tranx-rerank   WilcoxonResult(statistic=17996.5, pvalue=0.14957699247113967)\n"
     ]
    }
   ],
   "source": [
    "for i1 in range(len(names)):\n",
    "    t1 = []\n",
    "    for item in grad_comp:\n",
    "        if item[0] == names[i1]:\n",
    "            t1.append(item[5])\n",
    "    for i2 in range(i1+1, len(names)):\n",
    "        t2 = []\n",
    "        for item in grad_comp:\n",
    "            if item[0] == names[i2]:\n",
    "                t2.append(item[5])\n",
    "        if len(t2) != len(t1):\n",
    "            t2 = t2[:min(len(t1),len(t2))]\n",
    "            t1 = t1[:min(len(t1),len(t2))]\n",
    "        if i1 != i2:\n",
    "            print(names[i1], ' ', names[i2], ' ', stats.wilcoxon(t1,t2))"
   ]
  },
  {
   "cell_type": "markdown",
   "metadata": {},
   "source": [
    "### All together now"
   ]
  },
  {
   "cell_type": "code",
   "execution_count": 422,
   "metadata": {},
   "outputs": [
    {
     "name": "stdout",
     "output_type": "stream",
     "text": [
      "0 1\n",
      "0 1\n",
      "0 1\n",
      "0 1\n",
      "0 2\n",
      "0 2\n",
      "0 2\n",
      "0 2\n",
      "0 3\n",
      "0 3\n",
      "0 3\n",
      "0 3\n",
      "1 2\n",
      "1 2\n",
      "1 2\n",
      "1 2\n",
      "1 3\n",
      "1 3\n",
      "1 3\n",
      "1 3\n",
      "2 3\n",
      "2 3\n",
      "2 3\n",
      "2 3\n"
     ]
    },
    {
     "data": {
      "text/html": [
       "<table>\n",
       "<tbody>\n",
       "<tr><td>Model A    </td><td>Model B          </td><td>Grader      </td><td>Wilcoxon test</td></tr>\n",
       "<tr><td>baseline   </td><td>tranx-annot      </td><td>BLEU        </td><td>0.0          </td></tr>\n",
       "<tr><td>baseline   </td><td>tranx-annot      </td><td>ROUGE-L     </td><td>0.0          </td></tr>\n",
       "<tr><td>baseline   </td><td>tranx-annot      </td><td>METEOR      </td><td>0.0          </td></tr>\n",
       "<tr><td>baseline   </td><td>tranx-annot      </td><td>Misha + Egor</td><td>0.0          </td></tr>\n",
       "<tr><td>baseline   </td><td>best-tranx       </td><td>BLEU        </td><td>0.0          </td></tr>\n",
       "<tr><td>baseline   </td><td>best-tranx       </td><td>ROUGE-L     </td><td>0.0          </td></tr>\n",
       "<tr><td>baseline   </td><td>best-tranx       </td><td>METEOR      </td><td>0.0          </td></tr>\n",
       "<tr><td>baseline   </td><td>best-tranx       </td><td>Misha + Egor</td><td>0.0          </td></tr>\n",
       "<tr><td>baseline   </td><td>best-tranx-rerank</td><td>BLEU        </td><td>0.0          </td></tr>\n",
       "<tr><td>baseline   </td><td>best-tranx-rerank</td><td>ROUGE-L     </td><td>0.0          </td></tr>\n",
       "<tr><td>baseline   </td><td>best-tranx-rerank</td><td>METEOR      </td><td>0.0          </td></tr>\n",
       "<tr><td>baseline   </td><td>best-tranx-rerank</td><td>Misha + Egor</td><td>0.0          </td></tr>\n",
       "<tr><td>tranx-annot</td><td>best-tranx       </td><td>BLEU        </td><td>0.274        </td></tr>\n",
       "<tr><td>tranx-annot</td><td>best-tranx       </td><td>ROUGE-L     </td><td>0.14         </td></tr>\n",
       "<tr><td>tranx-annot</td><td>best-tranx       </td><td>METEOR      </td><td>0.085        </td></tr>\n",
       "<tr><td>tranx-annot</td><td>best-tranx       </td><td>Misha + Egor</td><td>0.0          </td></tr>\n",
       "<tr><td>tranx-annot</td><td>best-tranx-rerank</td><td>BLEU        </td><td>0.0          </td></tr>\n",
       "<tr><td>tranx-annot</td><td>best-tranx-rerank</td><td>ROUGE-L     </td><td>0.0          </td></tr>\n",
       "<tr><td>tranx-annot</td><td>best-tranx-rerank</td><td>METEOR      </td><td>0.0          </td></tr>\n",
       "<tr><td>tranx-annot</td><td>best-tranx-rerank</td><td>Misha + Egor</td><td>0.0          </td></tr>\n",
       "<tr><td>best-tranx </td><td>best-tranx-rerank</td><td>BLEU        </td><td>0.125        </td></tr>\n",
       "<tr><td>best-tranx </td><td>best-tranx-rerank</td><td>ROUGE-L     </td><td>0.094        </td></tr>\n",
       "<tr><td>best-tranx </td><td>best-tranx-rerank</td><td>METEOR      </td><td>0.135        </td></tr>\n",
       "<tr><td>best-tranx </td><td>best-tranx-rerank</td><td>Misha + Egor</td><td>0.091        </td></tr>\n",
       "</tbody>\n",
       "</table>"
      ],
      "text/plain": [
       "<IPython.core.display.HTML object>"
      ]
     },
     "metadata": {},
     "output_type": "display_data"
    }
   ],
   "source": [
    "tmp = [['Model A', 'Model B', 'Grader', 'Wilcoxon test']]\n",
    "graders = ('BLEU', 'ROUGE-L', 'METEOR', 'Misha + Egor')\n",
    "for i1 in range(len(names)):\n",
    "    t1 = [[] for i in range(4)]\n",
    "    for item in grad_comp:\n",
    "        if item[0] == names[i1]:\n",
    "            for i in range(4):\n",
    "                t1[i].append(item[i+1])\n",
    "    for i2 in range(i1+1, len(names)):\n",
    "        t2 = [[] for i in range(4)]\n",
    "        for item in grad_comp:\n",
    "            if item[0] == names[i2]:\n",
    "                for i in range(4):\n",
    "                    t2[i].append(item[i+1])\n",
    "        for i in range(4):\n",
    "            if len(t2[i]) != len(t1[i]):\n",
    "                t2[i] = t2[i][:min(len(t1[i]),len(t2[i]))]\n",
    "                t1[i] = t1[i][:min(len(t1[i]),len(t2[i]))]\n",
    "        if i1 != i2:\n",
    "            for i in range(4):\n",
    "                print(i1, i2)\n",
    "                tmp.append([names[i1][6:], names[i2][6:], graders[i], str(round(stats.wilcoxon(t1[i], t2[i])[1],3))])\n",
    "#    tmp.append([nam, 'METEOR', 'BLEU', str(round(pear(bleuds[nam], meteor[nam])[0],4))])\n",
    "#    tmp.append([nam, 'ROUGE-L', 'METEOR', str(round(pear(meteor[nam], rougel[nam])[0],4))])\n",
    "from IPython.display import HTML, display\n",
    "import tabulate\n",
    "display(HTML(tabulate.tabulate(tmp, tablefmt='html')))"
   ]
  },
  {
   "cell_type": "code",
   "execution_count": 424,
   "metadata": {},
   "outputs": [
    {
     "data": {
      "text/html": [
       "<table>\n",
       "<tbody>\n",
       "<tr><td>Model A    </td><td>Model B          </td><td>Grader</td><td>Wilcoxon test</td></tr>\n",
       "<tr><td>baseline   </td><td>tranx-annot      </td><td>Egor  </td><td>0.0          </td></tr>\n",
       "<tr><td>baseline   </td><td>tranx-annot      </td><td>Misha </td><td>0.0          </td></tr>\n",
       "<tr><td>baseline   </td><td>best-tranx       </td><td>Egor  </td><td>0.0          </td></tr>\n",
       "<tr><td>baseline   </td><td>best-tranx       </td><td>Misha </td><td>0.0          </td></tr>\n",
       "<tr><td>baseline   </td><td>best-tranx-rerank</td><td>Egor  </td><td>0.0          </td></tr>\n",
       "<tr><td>baseline   </td><td>best-tranx-rerank</td><td>Misha </td><td>0.0          </td></tr>\n",
       "<tr><td>tranx-annot</td><td>best-tranx       </td><td>Egor  </td><td>0.0          </td></tr>\n",
       "<tr><td>tranx-annot</td><td>best-tranx       </td><td>Misha </td><td>0.001        </td></tr>\n",
       "<tr><td>tranx-annot</td><td>best-tranx-rerank</td><td>Egor  </td><td>0.0          </td></tr>\n",
       "<tr><td>tranx-annot</td><td>best-tranx-rerank</td><td>Misha </td><td>0.0          </td></tr>\n",
       "<tr><td>best-tranx </td><td>best-tranx-rerank</td><td>Egor  </td><td>0.15         </td></tr>\n",
       "<tr><td>best-tranx </td><td>best-tranx-rerank</td><td>Misha </td><td>0.035        </td></tr>\n",
       "</tbody>\n",
       "</table>"
      ],
      "text/plain": [
       "<IPython.core.display.HTML object>"
      ]
     },
     "metadata": {},
     "output_type": "display_data"
    }
   ],
   "source": [
    "tmp = [['Model A', 'Model B', 'Grader', 'Wilcoxon test']]\n",
    "graders = ('Egor', 'Misha')\n",
    "for i1 in range(len(names)):\n",
    "    t1 = [[] for i in range(2)]\n",
    "    for item in grad_comp:\n",
    "        if item[0] == names[i1]:\n",
    "            for i in range(2):\n",
    "                t1[i].append(item[i+5])\n",
    "    for i2 in range(i1+1, len(names)):\n",
    "        t2 = [[] for i in range(2)]\n",
    "        for item in grad_comp:\n",
    "            if item[0] == names[i2]:\n",
    "                for i in range(2):\n",
    "                    t2[i].append(item[i+5])\n",
    "        for i in range(2):\n",
    "            if len(t2[i]) != len(t1[i]):\n",
    "                t2[i] = t2[i][:min(len(t1[i]),len(t2[i]))]\n",
    "                t1[i] = t1[i][:min(len(t1[i]),len(t2[i]))]\n",
    "        if i1 != i2:\n",
    "            for i in range(2):\n",
    "                tmp.append([names[i1][6:], names[i2][6:], graders[i], str(round(stats.wilcoxon(t1[i], t2[i])[1],3))])\n",
    "#    tmp.append([nam, 'METEOR', 'BLEU', str(round(pear(bleuds[nam], meteor[nam])[0],4))])\n",
    "#    tmp.append([nam, 'ROUGE-L', 'METEOR', str(round(pear(meteor[nam], rougel[nam])[0],4))])\n",
    "from IPython.display import HTML, display\n",
    "import tabulate\n",
    "display(HTML(tabulate.tabulate(tmp, tablefmt='html')))"
   ]
  },
  {
   "cell_type": "code",
   "execution_count": 433,
   "metadata": {},
   "outputs": [
    {
     "name": "stdout",
     "output_type": "stream",
     "text": [
      "asda DCNL b\n"
     ]
    }
   ],
   "source": [
    "st = 'a DCNL b'\n",
    "st = 'asd' + st\n",
    "print(st)"
   ]
  },
  {
   "cell_type": "code",
   "execution_count": 429,
   "metadata": {},
   "outputs": [],
   "source": [
    "import ast"
   ]
  },
  {
   "cell_type": "code",
   "execution_count": 435,
   "metadata": {},
   "outputs": [
    {
     "ename": "SyntaxError",
     "evalue": "invalid syntax (<ipython-input-435-d065dc5660b4>, line 1)",
     "output_type": "error",
     "traceback": [
      "\u001b[0;36m  File \u001b[0;32m\"<ipython-input-435-d065dc5660b4>\"\u001b[0;36m, line \u001b[0;32m1\u001b[0m\n\u001b[0;31m    ast.parse('flashes = _request_ctx_stack.top.flashes \\n \\t if (flashes is None): \\n \\t  \\t _request_ctx_stack.top.flashes = flashes = (session.pop('_flashes') if ('_flashes' in session) else []) \\n \\t if category_filter: \\n \\t  \\t flashes = list(filter((lambda f: (f[0] in category_filter)), flashes)) \\n \\t if (not with_categories): \\n \\t  \\t return [x[1] for x in flashes] \\n \\t return flashes')\u001b[0m\n\u001b[0m                                                                                                                                                              ^\u001b[0m\n\u001b[0;31mSyntaxError\u001b[0m\u001b[0;31m:\u001b[0m invalid syntax\n"
     ]
    }
   ],
   "source": [
    "ast.parse('flashes = _request_ctx_stack.top.flashes \\n \\t if (flashes is None): \\n \\t  \\t _request_ctx_stack.top.flashes = flashes = (session.pop('_flashes') if ('_flashes' in session) else []) \\n \\t if category_filter: \\n \\t  \\t flashes = list(filter((lambda f: (f[0] in category_filter)), flashes)) \\n \\t if (not with_categories): \\n \\t  \\t return [x[1] for x in flashes] \\n \\t return flashes')"
   ]
  },
  {
   "cell_type": "code",
   "execution_count": 444,
   "metadata": {},
   "outputs": [
    {
     "ename": "ModuleNotFoundError",
     "evalue": "No module named 'torch'",
     "output_type": "error",
     "traceback": [
      "\u001b[0;31m---------------------------------------------------------------------------\u001b[0m",
      "\u001b[0;31mModuleNotFoundError\u001b[0m                       Traceback (most recent call last)",
      "\u001b[0;32m<ipython-input-444-183152ad1e2b>\u001b[0m in \u001b[0;36m<module>\u001b[0;34m\u001b[0m\n\u001b[1;32m      2\u001b[0m \u001b[0msys\u001b[0m\u001b[0;34m.\u001b[0m\u001b[0mpath\u001b[0m\u001b[0;34m.\u001b[0m\u001b[0minsert\u001b[0m\u001b[0;34m(\u001b[0m\u001b[0;36m0\u001b[0m\u001b[0;34m,\u001b[0m \u001b[0;34m'/home/aspr/docs/science/Jetbrains/evaluating-metrics/datasets/tranX/datasets/conala/'\u001b[0m\u001b[0;34m)\u001b[0m\u001b[0;34m\u001b[0m\u001b[0;34m\u001b[0m\u001b[0m\n\u001b[1;32m      3\u001b[0m \u001b[0;34m\u001b[0m\u001b[0m\n\u001b[0;32m----> 4\u001b[0;31m \u001b[0;32mimport\u001b[0m \u001b[0mdataset\u001b[0m\u001b[0;34m\u001b[0m\u001b[0;34m\u001b[0m\u001b[0m\n\u001b[0m",
      "\u001b[0;32m~/docs/science/Jetbrains/evaluating-metrics/datasets/tranX/datasets/conala/dataset.py\u001b[0m in \u001b[0;36m<module>\u001b[0;34m\u001b[0m\n\u001b[1;32m     10\u001b[0m \u001b[0;32mfrom\u001b[0m \u001b[0masdl\u001b[0m\u001b[0;34m.\u001b[0m\u001b[0mlang\u001b[0m\u001b[0;34m.\u001b[0m\u001b[0mpy3\u001b[0m\u001b[0;34m.\u001b[0m\u001b[0mpy3_transition_system\u001b[0m \u001b[0;32mimport\u001b[0m \u001b[0mpython_ast_to_asdl_ast\u001b[0m\u001b[0;34m,\u001b[0m \u001b[0masdl_ast_to_python_ast\u001b[0m\u001b[0;34m,\u001b[0m \u001b[0mPython3TransitionSystem\u001b[0m\u001b[0;34m\u001b[0m\u001b[0;34m\u001b[0m\u001b[0m\n\u001b[1;32m     11\u001b[0m \u001b[0;32mfrom\u001b[0m \u001b[0masdl\u001b[0m\u001b[0;34m.\u001b[0m\u001b[0mtransition_system\u001b[0m \u001b[0;32mimport\u001b[0m \u001b[0;34m*\u001b[0m\u001b[0;34m\u001b[0m\u001b[0;34m\u001b[0m\u001b[0m\n\u001b[0;32m---> 12\u001b[0;31m \u001b[0;32mfrom\u001b[0m \u001b[0mcomponents\u001b[0m\u001b[0;34m.\u001b[0m\u001b[0maction_info\u001b[0m \u001b[0;32mimport\u001b[0m \u001b[0mget_action_infos\u001b[0m\u001b[0;34m\u001b[0m\u001b[0;34m\u001b[0m\u001b[0m\n\u001b[0m\u001b[1;32m     13\u001b[0m \u001b[0;32mfrom\u001b[0m \u001b[0mcomponents\u001b[0m\u001b[0;34m.\u001b[0m\u001b[0mdataset\u001b[0m \u001b[0;32mimport\u001b[0m \u001b[0mExample\u001b[0m\u001b[0;34m\u001b[0m\u001b[0;34m\u001b[0m\u001b[0m\n\u001b[1;32m     14\u001b[0m \u001b[0;32mfrom\u001b[0m \u001b[0mcomponents\u001b[0m\u001b[0;34m.\u001b[0m\u001b[0mvocab\u001b[0m \u001b[0;32mimport\u001b[0m \u001b[0mVocab\u001b[0m\u001b[0;34m,\u001b[0m \u001b[0mVocabEntry\u001b[0m\u001b[0;34m\u001b[0m\u001b[0;34m\u001b[0m\u001b[0m\n",
      "\u001b[0;32m~/docs/science/Jetbrains/evaluating-metrics/datasets/tranX/datasets/conala/components/__init__.py\u001b[0m in \u001b[0;36m<module>\u001b[0;34m\u001b[0m\n\u001b[1;32m      4\u001b[0m \u001b[0;34m\u001b[0m\u001b[0m\n\u001b[1;32m      5\u001b[0m \u001b[0;32mif\u001b[0m \u001b[0msix\u001b[0m\u001b[0;34m.\u001b[0m\u001b[0mPY3\u001b[0m\u001b[0;34m:\u001b[0m\u001b[0;34m\u001b[0m\u001b[0;34m\u001b[0m\u001b[0m\n\u001b[0;32m----> 6\u001b[0;31m     \u001b[0;32mfrom\u001b[0m \u001b[0mdatasets\u001b[0m\u001b[0;34m.\u001b[0m\u001b[0mconala\u001b[0m\u001b[0;34m.\u001b[0m\u001b[0mevaluator\u001b[0m \u001b[0;32mimport\u001b[0m \u001b[0mConalaEvaluator\u001b[0m\u001b[0;34m\u001b[0m\u001b[0;34m\u001b[0m\u001b[0m\n\u001b[0m\u001b[1;32m      7\u001b[0m     \u001b[0;32mfrom\u001b[0m \u001b[0mdatasets\u001b[0m\u001b[0;34m.\u001b[0m\u001b[0mwikisql\u001b[0m\u001b[0;34m.\u001b[0m\u001b[0mevaluator\u001b[0m \u001b[0;32mimport\u001b[0m \u001b[0mWikiSQLEvaluator\u001b[0m\u001b[0;34m\u001b[0m\u001b[0;34m\u001b[0m\u001b[0m\n\u001b[1;32m      8\u001b[0m \u001b[0;34m\u001b[0m\u001b[0m\n",
      "\u001b[0;32m~/docs/science/Jetbrains/evaluating-metrics/datasets/tranX/datasets/conala/datasets/conala/evaluator.py\u001b[0m in \u001b[0;36m<module>\u001b[0;34m\u001b[0m\n\u001b[1;32m      3\u001b[0m \u001b[0;32mfrom\u001b[0m \u001b[0mcomponents\u001b[0m\u001b[0;34m.\u001b[0m\u001b[0mevaluator\u001b[0m \u001b[0;32mimport\u001b[0m \u001b[0mEvaluator\u001b[0m\u001b[0;34m\u001b[0m\u001b[0;34m\u001b[0m\u001b[0m\n\u001b[1;32m      4\u001b[0m \u001b[0;32mfrom\u001b[0m \u001b[0mcommon\u001b[0m\u001b[0;34m.\u001b[0m\u001b[0mregisterable\u001b[0m \u001b[0;32mimport\u001b[0m \u001b[0mRegistrable\u001b[0m\u001b[0;34m\u001b[0m\u001b[0;34m\u001b[0m\u001b[0m\n\u001b[0;32m----> 5\u001b[0;31m \u001b[0;32mfrom\u001b[0m \u001b[0mcomponents\u001b[0m\u001b[0;34m.\u001b[0m\u001b[0mdataset\u001b[0m \u001b[0;32mimport\u001b[0m \u001b[0mDataset\u001b[0m\u001b[0;34m\u001b[0m\u001b[0;34m\u001b[0m\u001b[0m\n\u001b[0m\u001b[1;32m      6\u001b[0m \u001b[0;32mfrom\u001b[0m \u001b[0;34m.\u001b[0m\u001b[0mutil\u001b[0m \u001b[0;32mimport\u001b[0m \u001b[0mdecanonicalize_code\u001b[0m\u001b[0;34m\u001b[0m\u001b[0;34m\u001b[0m\u001b[0m\n\u001b[1;32m      7\u001b[0m \u001b[0;32mfrom\u001b[0m \u001b[0;34m.\u001b[0m\u001b[0mconala_eval\u001b[0m \u001b[0;32mimport\u001b[0m \u001b[0mtokenize_for_bleu_eval\u001b[0m\u001b[0;34m\u001b[0m\u001b[0;34m\u001b[0m\u001b[0m\n",
      "\u001b[0;32m~/docs/science/Jetbrains/evaluating-metrics/datasets/tranX/datasets/conala/components/dataset.py\u001b[0m in \u001b[0;36m<module>\u001b[0;34m\u001b[0m\n\u001b[1;32m      2\u001b[0m \u001b[0;32mfrom\u001b[0m \u001b[0mcollections\u001b[0m \u001b[0;32mimport\u001b[0m \u001b[0mOrderedDict\u001b[0m\u001b[0;34m\u001b[0m\u001b[0;34m\u001b[0m\u001b[0m\n\u001b[1;32m      3\u001b[0m \u001b[0;34m\u001b[0m\u001b[0m\n\u001b[0;32m----> 4\u001b[0;31m \u001b[0;32mimport\u001b[0m \u001b[0mtorch\u001b[0m\u001b[0;34m\u001b[0m\u001b[0;34m\u001b[0m\u001b[0m\n\u001b[0m\u001b[1;32m      5\u001b[0m \u001b[0;32mimport\u001b[0m \u001b[0mnumpy\u001b[0m \u001b[0;32mas\u001b[0m \u001b[0mnp\u001b[0m\u001b[0;34m\u001b[0m\u001b[0;34m\u001b[0m\u001b[0m\n\u001b[1;32m      6\u001b[0m \u001b[0;32mtry\u001b[0m\u001b[0;34m:\u001b[0m\u001b[0;34m\u001b[0m\u001b[0;34m\u001b[0m\u001b[0m\n",
      "\u001b[0;31mModuleNotFoundError\u001b[0m: No module named 'torch'"
     ]
    }
   ],
   "source": [
    "import sys\n",
    "sys.path.insert(0, '/home/aspr/docs/science/Jetbrains/evaluating-metrics/datasets/tranX/datasets/conala/')\n",
    "\n",
    "import dataset"
   ]
  },
  {
   "cell_type": "code",
   "execution_count": 443,
   "metadata": {},
   "outputs": [
    {
     "ename": "ModuleNotFoundError",
     "evalue": "No module named 'records'",
     "output_type": "error",
     "traceback": [
      "\u001b[0;31m---------------------------------------------------------------------------\u001b[0m",
      "\u001b[0;31mModuleNotFoundError\u001b[0m                       Traceback (most recent call last)",
      "\u001b[0;32m<ipython-input-443-140c856fa816>\u001b[0m in \u001b[0;36m<module>\u001b[0;34m\u001b[0m\n\u001b[0;32m----> 1\u001b[0;31m \u001b[0;32mimport\u001b[0m \u001b[0mrecords\u001b[0m\u001b[0;34m\u001b[0m\u001b[0;34m\u001b[0m\u001b[0m\n\u001b[0m",
      "\u001b[0;31mModuleNotFoundError\u001b[0m: No module named 'records'"
     ]
    }
   ],
   "source": []
  },
  {
   "cell_type": "code",
   "execution_count": null,
   "metadata": {},
   "outputs": [],
   "source": []
  }
 ],
 "metadata": {
  "kernelspec": {
   "display_name": "Python 3",
   "language": "python",
   "name": "python3"
  },
  "language_info": {
   "codemirror_mode": {
    "name": "ipython",
    "version": 3
   },
   "file_extension": ".py",
   "mimetype": "text/x-python",
   "name": "python",
   "nbconvert_exporter": "python",
   "pygments_lexer": "ipython3",
   "version": "3.7.4"
  }
 },
 "nbformat": 4,
 "nbformat_minor": 2
}
