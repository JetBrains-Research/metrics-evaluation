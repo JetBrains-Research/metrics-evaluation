{
 "cells": [
  {
   "cell_type": "code",
   "execution_count": 1,
   "metadata": {},
   "outputs": [],
   "source": [
    "import json"
   ]
  },
  {
   "cell_type": "code",
   "execution_count": 14,
   "metadata": {},
   "outputs": [],
   "source": [
    "data = json.load(open('to-grade/all-singles.tmp.json'))\n",
    "dataset = json.load(open('conala-dataset.json'))"
   ]
  },
  {
   "cell_type": "code",
   "execution_count": 27,
   "metadata": {},
   "outputs": [],
   "source": [
    "def get_key(k):\n",
    "    if k.endswith('-rerank'):\n",
    "        return k.replace('-rerank', '-bleu-rerank')\n",
    "    return k + '-bleu'\n",
    "\n",
    "def get_val(d2, k):\n",
    "    k = k.replace('grade-', '')\n",
    "    if k == 'snippet':\n",
    "        return 1.\n",
    "    return d2[get_key(k.replace('grade-', ''))]"
   ]
  },
  {
   "cell_type": "code",
   "execution_count": 45,
   "metadata": {},
   "outputs": [],
   "source": [
    "pairs = []\n",
    "for d1, d2 in zip(data, dataset):\n",
    "    assert d1['snippet'] == d2['snippet']\n",
    "    or_intent = d2['rewritten_intent'] if d2['rewritten_intent'] is not None else d2['intent']\n",
    "    assert d1['intent'] == or_intent\n",
    "    for k in d1:\n",
    "        if k.startswith('grade-'):\n",
    "            pairs.append((\n",
    "                d1[k], \n",
    "                get_val(d2, k)\n",
    "            ))"
   ]
  },
  {
   "cell_type": "code",
   "execution_count": 46,
   "metadata": {},
   "outputs": [
    {
     "data": {
      "text/plain": [
       "[(1, 0.3554), (0, 0.0813), (2, 0.6274), (4, 1.0), (3, 1.0)]"
      ]
     },
     "execution_count": 46,
     "metadata": {},
     "output_type": "execute_result"
    }
   ],
   "source": [
    "pairs[:5]"
   ]
  },
  {
   "cell_type": "code",
   "execution_count": 47,
   "metadata": {},
   "outputs": [],
   "source": [
    "import matplotlib.pyplot as plt"
   ]
  },
  {
   "cell_type": "code",
   "execution_count": 48,
   "metadata": {},
   "outputs": [
    {
     "data": {
      "text/plain": [
       "[<matplotlib.lines.Line2D at 0x7f268a1d7978>]"
      ]
     },
     "execution_count": 48,
     "metadata": {},
     "output_type": "execute_result"
    },
    {
     "data": {
      "image/png": "[encoded data removed]",
      "text/plain": [
       "<Figure size 432x288 with 1 Axes>"
      ]
     },
     "metadata": {},
     "output_type": "display_data"
    }
   ],
   "source": [
    "plt.plot([p[1] for p in pairs], [p[0] for p in pairs], 'o')"
   ]
  },
  {
   "cell_type": "code",
   "execution_count": null,
   "metadata": {},
   "outputs": [],
   "source": []
  }
 ],
 "metadata": {
  "kernelspec": {
   "display_name": "Python 3",
   "language": "python",
   "name": "python3"
  },
  "language_info": {
   "codemirror_mode": {
    "name": "ipython",
    "version": 3
   },
   "file_extension": ".py",
   "mimetype": "text/x-python",
   "name": "python",
   "nbconvert_exporter": "python",
   "pygments_lexer": "ipython3",
   "version": "3.6.9"
  }
 },
 "nbformat": 4,
 "nbformat_minor": 2
}
